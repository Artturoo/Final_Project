{
 "cells": [
  {
   "cell_type": "code",
   "execution_count": 10,
   "id": "1a8e6d55",
   "metadata": {},
   "outputs": [],
   "source": [
    "from selenium import webdriver\n",
    "from selenium.webdriver.chrome.options import Options\n",
    "from webdriver_manager.chrome import ChromeDriverManager\n",
    "from selenium.webdriver.common.by import By\n",
    "from joblib import Parallel, delayed \n",
    "from multiprocessing import get_context\n",
    "import multiprocessing as mp\n",
    "import time\n",
    "import pandas as pd\n",
    "from webdriver_manager.chrome import ChromeDriverManager\n",
    "PATH=ChromeDriverManager().install()\n",
    "import warnings\n",
    "warnings.filterwarnings('ignore')"
   ]
  },
  {
   "cell_type": "code",
   "execution_count": 11,
   "id": "1dfab831",
   "metadata": {},
   "outputs": [
    {
     "data": {
      "text/plain": [
       "'spawn'"
      ]
     },
     "execution_count": 11,
     "metadata": {},
     "output_type": "execute_result"
    }
   ],
   "source": [
    "mp.get_start_method()"
   ]
  },
  {
   "cell_type": "code",
   "execution_count": 12,
   "id": "16e37a89",
   "metadata": {},
   "outputs": [],
   "source": [
    "pool=get_context('fork').Pool(mp.cpu_count()) "
   ]
  },
  {
   "cell_type": "code",
   "execution_count": 27,
   "id": "f1256c49",
   "metadata": {},
   "outputs": [
    {
     "data": {
      "text/plain": [
       "8"
      ]
     },
     "execution_count": 27,
     "metadata": {},
     "output_type": "execute_result"
    }
   ],
   "source": [
    "mp.cpu_count()"
   ]
  },
  {
   "cell_type": "code",
   "execution_count": 28,
   "id": "5f411468",
   "metadata": {},
   "outputs": [],
   "source": [
    "pool=get_context('fork').Pool(8)"
   ]
  },
  {
   "cell_type": "code",
   "execution_count": 14,
   "id": "bcbc7625",
   "metadata": {},
   "outputs": [],
   "source": [
    "#driver configuration\n",
    "opciones=Options()\n",
    "\n",
    "opciones.add_experimental_option('excludeSwitches', ['enable-automation'])\n",
    "opciones.add_experimental_option('useAutomationExtension', False)\n",
    "opciones.headless=False    # si True, no aperece la ventana (headless=no visible)\n",
    "opciones.add_argument('--start-maximized')         # comienza maximizado\n",
    "#opciones.add_argument('user-data-dir=selenium')    # mantiene las cookies\n",
    "#opciones.add_extension('driver_folder/adblock.crx')       # adblocker\n",
    "opciones.add_argument('--incognito')"
   ]
  },
  {
   "cell_type": "code",
   "execution_count": 132,
   "id": "42585a14",
   "metadata": {},
   "outputs": [],
   "source": [
    "#Funcion para sacar de la pestaña Bienes las columnas que necesito\n",
    "def boe(i):\n",
    "   \n",
    "    \n",
    "    driver=webdriver.Chrome(PATH)\n",
    "    boe_url='https://subastas.boe.es/subastas_ava.php?campo%5B0%5D=SUBASTA.ORIGEN&dato%5B0%5D=&campo%5B1%5D=SUBASTA.AUTORIDAD&dato%5B1%5D=&campo%5B2%5D=SUBASTA.ESTADO&dato%5B2%5D=PC&campo%5B3%5D=BIEN.TIPO&dato%5B3%5D=I&dato%5B4%5D=501&campo%5B5%5D=BIEN.DIRECCION&dato%5B5%5D=&campo%5B6%5D=BIEN.CODPOSTAL&dato%5B6%5D=&campo%5B7%5D=BIEN.LOCALIDAD&dato%5B7%5D=&campo%5B8%5D=BIEN.COD_PROVINCIA&dato%5B8%5D=&campo%5B9%5D=SUBASTA.POSTURA_MINIMA_MINIMA_LOTES&dato%5B9%5D=&campo%5B10%5D=SUBASTA.NUM_CUENTA_EXPEDIENTE_1&dato%5B10%5D=&campo%5B11%5D=SUBASTA.NUM_CUENTA_EXPEDIENTE_2&dato%5B11%5D=&campo%5B12%5D=SUBASTA.NUM_CUENTA_EXPEDIENTE_3&dato%5B12%5D=&campo%5B13%5D=SUBASTA.NUM_CUENTA_EXPEDIENTE_4&dato%5B13%5D=&campo%5B14%5D=SUBASTA.NUM_CUENTA_EXPEDIENTE_5&dato%5B14%5D=&campo%5B15%5D=SUBASTA.ID_SUBASTA_BUSCAR&dato%5B15%5D=&campo%5B16%5D=SUBASTA.FECHA_FIN_YMD&dato%5B16%5D%5B0%5D=&dato%5B16%5D%5B1%5D=&campo%5B17%5D=SUBASTA.FECHA_INICIO_YMD&dato%5B17%5D%5B0%5D=&dato%5B17%5D%5B1%5D=&page_hits=500&sort_field%5B0%5D=SUBASTA.FECHA_FIN_YMD&sort_order%5B0%5D=desc&sort_field%5B1%5D=SUBASTA.FECHA_FIN_YMD&sort_order%5B1%5D=asc&sort_field%5B2%5D=SUBASTA.HORA_FIN&sort_order%5B2%5D=asc&accion=Buscar'\n",
    "    driver.get(boe_url)\n",
    "    time.sleep(2)\n",
    "   \n",
    "    \n",
    "    tabla=driver.find_element(By.XPATH, f'//*[@id=\"contenido\"]/div[4]/ul/li[{i}]/ul/li/a').click()\n",
    "    \n",
    "    time.sleep(2)\n",
    "    pestaña=driver.find_element(By.XPATH, '//*[@id=\"tabs\"]/ul/li[3]/a').click()\n",
    "\n",
    "    time.sleep(2)\n",
    "    element= driver.find_element(By.TAG_NAME,'table') \n",
    "    filas=element.find_elements(By.TAG_NAME,'tr')\n",
    "    data=[]\n",
    "    for f in filas:\n",
    "        \n",
    "        nombre=f.find_elements(By.TAG_NAME, 'th')\n",
    "        elemen=f.find_elements(By.TAG_NAME, 'td')\n",
    "        tmp=[]\n",
    "        inp=[]\n",
    "        ele=[]\n",
    "        try:\n",
    "            for i,e in zip(nombre,elemen):\n",
    "                if i.text == 'Dirección':\n",
    "                    \n",
    "                    tmp.append(e.text)\n",
    "                                   \n",
    "                \n",
    "                if i.text =='Código Postal':\n",
    "\n",
    "                    tmp.append(e.text)\n",
    "\n",
    "                if i.text=='Localidad':\n",
    "\n",
    "                    tmp.append(e.text)\n",
    "                \n",
    "                if i.text=='Provincia':\n",
    "\n",
    "                    tmp.append(e.text)\n",
    "\n",
    "            data.append(tmp[0])\n",
    "        \n",
    "        except:\n",
    "            pass\n",
    "\n",
    "    driver.quit()\n",
    "    return data\n",
    "  \n",
    "   \n",
    "    "
   ]
  },
  {
   "cell_type": "code",
   "execution_count": 133,
   "id": "ed802540",
   "metadata": {},
   "outputs": [
    {
     "data": {
      "text/plain": [
       "['CALLE CULLERA Nº 16, 11ºA ,FINCA REGISTRAL136275',\n",
       " '28047',\n",
       " 'MADRID',\n",
       " 'Madrid']"
      ]
     },
     "execution_count": 133,
     "metadata": {},
     "output_type": "execute_result"
    }
   ],
   "source": [
    "boe(1)"
   ]
  },
  {
   "cell_type": "code",
   "execution_count": null,
   "id": "3c1ca89f",
   "metadata": {},
   "outputs": [],
   "source": []
  },
  {
   "cell_type": "code",
   "execution_count": 142,
   "id": "0f89e385",
   "metadata": {},
   "outputs": [],
   "source": [
    "#Funcion pestaña puja\n",
    "def boe(i):\n",
    "   \n",
    "    \n",
    "    driver=webdriver.Chrome(PATH)\n",
    "    boe_url='https://subastas.boe.es/subastas_ava.php?campo%5B0%5D=SUBASTA.ORIGEN&dato%5B0%5D=&campo%5B1%5D=SUBASTA.AUTORIDAD&dato%5B1%5D=&campo%5B2%5D=SUBASTA.ESTADO&dato%5B2%5D=PC&campo%5B3%5D=BIEN.TIPO&dato%5B3%5D=I&dato%5B4%5D=501&campo%5B5%5D=BIEN.DIRECCION&dato%5B5%5D=&campo%5B6%5D=BIEN.CODPOSTAL&dato%5B6%5D=&campo%5B7%5D=BIEN.LOCALIDAD&dato%5B7%5D=&campo%5B8%5D=BIEN.COD_PROVINCIA&dato%5B8%5D=&campo%5B9%5D=SUBASTA.POSTURA_MINIMA_MINIMA_LOTES&dato%5B9%5D=&campo%5B10%5D=SUBASTA.NUM_CUENTA_EXPEDIENTE_1&dato%5B10%5D=&campo%5B11%5D=SUBASTA.NUM_CUENTA_EXPEDIENTE_2&dato%5B11%5D=&campo%5B12%5D=SUBASTA.NUM_CUENTA_EXPEDIENTE_3&dato%5B12%5D=&campo%5B13%5D=SUBASTA.NUM_CUENTA_EXPEDIENTE_4&dato%5B13%5D=&campo%5B14%5D=SUBASTA.NUM_CUENTA_EXPEDIENTE_5&dato%5B14%5D=&campo%5B15%5D=SUBASTA.ID_SUBASTA_BUSCAR&dato%5B15%5D=&campo%5B16%5D=SUBASTA.FECHA_FIN_YMD&dato%5B16%5D%5B0%5D=&dato%5B16%5D%5B1%5D=&campo%5B17%5D=SUBASTA.FECHA_INICIO_YMD&dato%5B17%5D%5B0%5D=&dato%5B17%5D%5B1%5D=&page_hits=500&sort_field%5B0%5D=SUBASTA.FECHA_FIN_YMD&sort_order%5B0%5D=desc&sort_field%5B1%5D=SUBASTA.FECHA_FIN_YMD&sort_order%5B1%5D=asc&sort_field%5B2%5D=SUBASTA.HORA_FIN&sort_order%5B2%5D=asc&accion=Buscar'\n",
    "    driver.get(boe_url)\n",
    "    time.sleep(2)\n",
    "   \n",
    "    \n",
    "    tabla=driver.find_element(By.XPATH, f'//*[@id=\"contenido\"]/div[4]/ul/li[{i}]/ul/li/a').click()\n",
    "    \n",
    "    time.sleep(2)\n",
    "    pestaña=driver.find_element(By.XPATH, '//*[@id=\"tabs\"]/ul/li[4]/a').click()\n",
    "\n",
    "    time.sleep(2)\n",
    "    \n",
    "    filas=find_elements(By.TAG_NAME,'p')\n",
    "    data=[]\n",
    "    for f in filas:\n",
    "        tmp=[]\n",
    "        try:\n",
    "            for i in zip(filas):\n",
    "                    \n",
    "                    tmp.append(i.text)\n",
    "                                   \n",
    "\n",
    "            data.append(tmp[0])\n",
    "        \n",
    "        except:\n",
    "            pass\n",
    "\n",
    "    driver.quit()\n",
    "    return data\n",
    "  \n",
    "   \n",
    "    "
   ]
  },
  {
   "cell_type": "code",
   "execution_count": 143,
   "id": "22d62fca",
   "metadata": {},
   "outputs": [
    {
     "data": {
      "text/plain": [
       "[]"
      ]
     },
     "execution_count": 143,
     "metadata": {},
     "output_type": "execute_result"
    }
   ],
   "source": [
    "boe(1)"
   ]
  },
  {
   "cell_type": "code",
   "execution_count": null,
   "id": "79bc0a25",
   "metadata": {},
   "outputs": [],
   "source": []
  },
  {
   "cell_type": "code",
   "execution_count": null,
   "id": "52440e83",
   "metadata": {},
   "outputs": [],
   "source": []
  },
  {
   "cell_type": "code",
   "execution_count": null,
   "id": "3d60c728",
   "metadata": {},
   "outputs": [],
   "source": [
    "#Funci\n",
    "def boe(i):\n",
    "   \n",
    "    \n",
    "    driver=webdriver.Chrome(PATH)\n",
    "    boe_url='https://subastas.boe.es/subastas_ava.php?campo%5B0%5D=SUBASTA.ORIGEN&dato%5B0%5D=&campo%5B1%5D=SUBASTA.AUTORIDAD&dato%5B1%5D=&campo%5B2%5D=SUBASTA.ESTADO&dato%5B2%5D=PC&campo%5B3%5D=BIEN.TIPO&dato%5B3%5D=I&dato%5B4%5D=501&campo%5B5%5D=BIEN.DIRECCION&dato%5B5%5D=&campo%5B6%5D=BIEN.CODPOSTAL&dato%5B6%5D=&campo%5B7%5D=BIEN.LOCALIDAD&dato%5B7%5D=&campo%5B8%5D=BIEN.COD_PROVINCIA&dato%5B8%5D=&campo%5B9%5D=SUBASTA.POSTURA_MINIMA_MINIMA_LOTES&dato%5B9%5D=&campo%5B10%5D=SUBASTA.NUM_CUENTA_EXPEDIENTE_1&dato%5B10%5D=&campo%5B11%5D=SUBASTA.NUM_CUENTA_EXPEDIENTE_2&dato%5B11%5D=&campo%5B12%5D=SUBASTA.NUM_CUENTA_EXPEDIENTE_3&dato%5B12%5D=&campo%5B13%5D=SUBASTA.NUM_CUENTA_EXPEDIENTE_4&dato%5B13%5D=&campo%5B14%5D=SUBASTA.NUM_CUENTA_EXPEDIENTE_5&dato%5B14%5D=&campo%5B15%5D=SUBASTA.ID_SUBASTA_BUSCAR&dato%5B15%5D=&campo%5B16%5D=SUBASTA.FECHA_FIN_YMD&dato%5B16%5D%5B0%5D=&dato%5B16%5D%5B1%5D=&campo%5B17%5D=SUBASTA.FECHA_INICIO_YMD&dato%5B17%5D%5B0%5D=&dato%5B17%5D%5B1%5D=&page_hits=500&sort_field%5B0%5D=SUBASTA.FECHA_FIN_YMD&sort_order%5B0%5D=desc&sort_field%5B1%5D=SUBASTA.FECHA_FIN_YMD&sort_order%5B1%5D=asc&sort_field%5B2%5D=SUBASTA.HORA_FIN&sort_order%5B2%5D=asc&accion=Buscar'\n",
    "    driver.get(boe_url)\n",
    "    time.sleep(2)\n",
    "   \n",
    "    \n",
    "    tabla=driver.find_element(By.XPATH, f'//*[@id=\"contenido\"]/div[4]/ul/li[{i}]/ul/li/a').click()\n",
    "    \n",
    "    time.sleep(2)\n",
    "    pestaña=driver.find_element(By.XPATH, '//*[@id=\"tabs\"]/ul/li[3]/a').click()\n",
    "\n",
    "    time.sleep(2)\n",
    "    element= driver.find_element(By.TAG_NAME,'table') \n",
    "    filas=element.find_elements(By.TAG_NAME,'tr')\n",
    "    data=[]\n",
    "    for f in filas:\n",
    "        \n",
    "        nombre=f.find_elements(By.TAG_NAME, 'th')\n",
    "        elemen=f.find_elements(By.TAG_NAME, 'td')\n",
    "        tmp=[]\n",
    "        inp=[]\n",
    "        ele=[]\n",
    "        try:\n",
    "            for i,e in zip(nombre,elemen):\n",
    "                if i.text == 'Dirección':\n",
    "                    \n",
    "                    tmp.append(e.text)\n",
    "                                   \n",
    "                \n",
    "                if i.text =='Código Postal':\n",
    "\n",
    "                    tmp.append(e.text)\n",
    "\n",
    "                if i.text=='Localidad':\n",
    "\n",
    "                    tmp.append(e.text)\n",
    "                \n",
    "                if i.text=='Provincia':\n",
    "\n",
    "                    tmp.append(e.text)\n",
    "\n",
    "            data.append(tmp[0])\n",
    "        \n",
    "        except:\n",
    "            pass\n",
    "\n",
    "    driver.quit()\n",
    "    return data\n",
    "  \n",
    "   \n",
    "    "
   ]
  },
  {
   "cell_type": "code",
   "execution_count": null,
   "id": "8042b3ed",
   "metadata": {},
   "outputs": [],
   "source": []
  },
  {
   "cell_type": "code",
   "execution_count": null,
   "id": "b2a8bd96",
   "metadata": {},
   "outputs": [],
   "source": []
  },
  {
   "cell_type": "code",
   "execution_count": null,
   "id": "574c81da",
   "metadata": {},
   "outputs": [],
   "source": []
  },
  {
   "cell_type": "code",
   "execution_count": null,
   "id": "822bf674",
   "metadata": {},
   "outputs": [],
   "source": []
  },
  {
   "cell_type": "code",
   "execution_count": null,
   "id": "ec617350",
   "metadata": {},
   "outputs": [],
   "source": []
  },
  {
   "cell_type": "code",
   "execution_count": 140,
   "id": "712a8f7a",
   "metadata": {},
   "outputs": [],
   "source": [
    "#funcion primera pestaña\n",
    "def utmb(i):\n",
    "    driver=webdriver.Chrome(PATH)\n",
    "    boe_url='https://subastas.boe.es/subastas_ava.php?campo%5B0%5D=SUBASTA.ORIGEN&dato%5B0%5D=&campo%5B1%5D=SUBASTA.AUTORIDAD&dato%5B1%5D=&campo%5B2%5D=SUBASTA.ESTADO&dato%5B2%5D=PC&campo%5B3%5D=BIEN.TIPO&dato%5B3%5D=I&dato%5B4%5D=501&campo%5B5%5D=BIEN.DIRECCION&dato%5B5%5D=&campo%5B6%5D=BIEN.CODPOSTAL&dato%5B6%5D=&campo%5B7%5D=BIEN.LOCALIDAD&dato%5B7%5D=&campo%5B8%5D=BIEN.COD_PROVINCIA&dato%5B8%5D=&campo%5B9%5D=SUBASTA.POSTURA_MINIMA_MINIMA_LOTES&dato%5B9%5D=&campo%5B10%5D=SUBASTA.NUM_CUENTA_EXPEDIENTE_1&dato%5B10%5D=&campo%5B11%5D=SUBASTA.NUM_CUENTA_EXPEDIENTE_2&dato%5B11%5D=&campo%5B12%5D=SUBASTA.NUM_CUENTA_EXPEDIENTE_3&dato%5B12%5D=&campo%5B13%5D=SUBASTA.NUM_CUENTA_EXPEDIENTE_4&dato%5B13%5D=&campo%5B14%5D=SUBASTA.NUM_CUENTA_EXPEDIENTE_5&dato%5B14%5D=&campo%5B15%5D=SUBASTA.ID_SUBASTA_BUSCAR&dato%5B15%5D=&campo%5B16%5D=SUBASTA.FECHA_FIN_YMD&dato%5B16%5D%5B0%5D=&dato%5B16%5D%5B1%5D=&campo%5B17%5D=SUBASTA.FECHA_INICIO_YMD&dato%5B17%5D%5B0%5D=&dato%5B17%5D%5B1%5D=&page_hits=500&sort_field%5B0%5D=SUBASTA.FECHA_FIN_YMD&sort_order%5B0%5D=desc&sort_field%5B1%5D=SUBASTA.FECHA_FIN_YMD&sort_order%5B1%5D=asc&sort_field%5B2%5D=SUBASTA.HORA_FIN&sort_order%5B2%5D=asc&accion=Buscar'\n",
    "    driver.get(boe_url)\n",
    "    time.sleep(2)\n",
    "   \n",
    "    tabla=driver.find_element(By.XPATH, f'//*[@id=\"contenido\"]/div[4]/ul/li[{i}]/ul/li/a').click()\n",
    "    time.sleep(2)\n",
    "    element= driver.find_element(By.TAG_NAME,'table')\n",
    "    filas=element.find_elements(By.TAG_NAME,'tr')\n",
    "    data=[]\n",
    "    for f in filas:\n",
    "        \n",
    "        nombre=f.find_elements(By.TAG_NAME, 'th')\n",
    "        elemen=f.find_elements(By.TAG_NAME, 'td')\n",
    "        tmp=[]\n",
    "        inp=[]\n",
    "        ele=[]\n",
    "        try:\n",
    "            for i,e in zip(nombre,elemen):\n",
    "                if i.text == 'Identificador':\n",
    "                    \n",
    "                    tmp.append(e.text)\n",
    "                                   \n",
    "                \n",
    "                if i.text =='Tipo de subasta':\n",
    "\n",
    "                    tmp.append(e.text)\n",
    "\n",
    "                if i.text=='Cuenta expediente':\n",
    "\n",
    "                    tmp.append(e.text)\n",
    "                \n",
    "                if i.text=='Fecha de inicio':\n",
    "\n",
    "                    tmp.append(e.text)\n",
    "                if i.text == 'Fecha de conclusión':\n",
    "                    \n",
    "                    tmp.append(e.text)\n",
    "                                   \n",
    "                \n",
    "                if i.text =='Cantidad reclamada\t':\n",
    "\n",
    "                    tmp.append(e.text)\n",
    "\n",
    "                if i.text=='Anuncio BOE':\n",
    "\n",
    "                    tmp.append(e.text)\n",
    "                \n",
    "                if i.text=='Valor subasta':\n",
    "\n",
    "                    tmp.append(e.text)\n",
    "                    \n",
    "                if i.text=='Tasación':\n",
    "\n",
    "                    tmp.append(e.text)\n",
    "                    \n",
    "                if i.text=='Puja mínima':\n",
    "\n",
    "                    tmp.append(e.text)\n",
    "                    \n",
    "                if i.text=='Tramos entre pujas':\n",
    "\n",
    "                    tmp.append(e.text)\n",
    "                    \n",
    "                if i.text=='Importe del depósito':\n",
    "\n",
    "                    tmp.append(e.text)\n",
    "\n",
    "            data.append(tmp[0])\n",
    "        \n",
    "        except:\n",
    "            pass\n",
    "        \n",
    "    driver.quit()\n",
    "    return data"
   ]
  },
  {
   "cell_type": "code",
   "execution_count": 141,
   "id": "5d183feb",
   "metadata": {},
   "outputs": [
    {
     "data": {
      "text/plain": [
       "['SUB-JA-2022-195366',\n",
       " 'JUDICIAL EN VÍA DE APREMIO',\n",
       " '0098 0000 06 1384 14',\n",
       " '17-11-2022 18:00:00 CET (ISO: 2022-11-17T18:00:00+01:00)',\n",
       " '07-12-2022 18:00:00 CET (ISO: 2022-12-07T18:00:00+01:00)',\n",
       " 'BOE-B-2022-35227',\n",
       " '202.150,80 €',\n",
       " '202.150,82 €',\n",
       " 'Sin puja mínima',\n",
       " '4.043,01 €',\n",
       " '10.107,54 €']"
      ]
     },
     "execution_count": 141,
     "metadata": {},
     "output_type": "execute_result"
    }
   ],
   "source": [
    "utmb(1)"
   ]
  },
  {
   "cell_type": "code",
   "execution_count": null,
   "id": "f870748b",
   "metadata": {},
   "outputs": [],
   "source": []
  },
  {
   "cell_type": "code",
   "execution_count": null,
   "id": "3732306b",
   "metadata": {},
   "outputs": [],
   "source": []
  },
  {
   "cell_type": "code",
   "execution_count": null,
   "id": "6142f9b3",
   "metadata": {},
   "outputs": [],
   "source": []
  },
  {
   "cell_type": "code",
   "execution_count": null,
   "id": "e3066264",
   "metadata": {},
   "outputs": [],
   "source": []
  },
  {
   "cell_type": "code",
   "execution_count": null,
   "id": "1c0f874c",
   "metadata": {},
   "outputs": [],
   "source": []
  },
  {
   "cell_type": "code",
   "execution_count": null,
   "id": "980fd39a",
   "metadata": {},
   "outputs": [],
   "source": []
  },
  {
   "cell_type": "code",
   "execution_count": null,
   "id": "ed9538e5",
   "metadata": {},
   "outputs": [],
   "source": []
  },
  {
   "cell_type": "code",
   "execution_count": null,
   "id": "fd6cba3d",
   "metadata": {},
   "outputs": [],
   "source": []
  },
  {
   "cell_type": "code",
   "execution_count": null,
   "id": "aec9a7fb",
   "metadata": {},
   "outputs": [],
   "source": []
  },
  {
   "cell_type": "code",
   "execution_count": null,
   "id": "1ee3201a",
   "metadata": {},
   "outputs": [],
   "source": []
  },
  {
   "cell_type": "code",
   "execution_count": null,
   "id": "7910bf70",
   "metadata": {},
   "outputs": [],
   "source": []
  },
  {
   "cell_type": "code",
   "execution_count": null,
   "id": "e4578411",
   "metadata": {},
   "outputs": [],
   "source": []
  },
  {
   "cell_type": "code",
   "execution_count": null,
   "id": "fc2908d2",
   "metadata": {},
   "outputs": [],
   "source": []
  },
  {
   "cell_type": "code",
   "execution_count": null,
   "id": "bc2c7fb1",
   "metadata": {},
   "outputs": [],
   "source": []
  },
  {
   "cell_type": "code",
   "execution_count": null,
   "id": "1b999b8c",
   "metadata": {},
   "outputs": [],
   "source": [
    "lst=Parallel(n_jobs=-1, verbose=True)(delayed(boe)(e) for e in range(1,501))"
   ]
  },
  {
   "cell_type": "code",
   "execution_count": null,
   "id": "b63eb61e",
   "metadata": {},
   "outputs": [],
   "source": [
    "df=pd.DataFrame(lst)"
   ]
  },
  {
   "cell_type": "code",
   "execution_count": null,
   "id": "55933b8f",
   "metadata": {},
   "outputs": [],
   "source": [
    "df.to_csv('../data/BOE.csv', index=False, sep=',') "
   ]
  }
 ],
 "metadata": {
  "kernelspec": {
   "display_name": "Python 3 (ipykernel)",
   "language": "python",
   "name": "python3"
  },
  "language_info": {
   "codemirror_mode": {
    "name": "ipython",
    "version": 3
   },
   "file_extension": ".py",
   "mimetype": "text/x-python",
   "name": "python",
   "nbconvert_exporter": "python",
   "pygments_lexer": "ipython3",
   "version": "3.9.12"
  }
 },
 "nbformat": 4,
 "nbformat_minor": 5
}
