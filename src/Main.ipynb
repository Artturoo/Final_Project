{
 "cells": [
  {
   "cell_type": "code",
   "execution_count": 1,
   "id": "cf3c276c",
   "metadata": {},
   "outputs": [
    {
     "name": "stderr",
     "output_type": "stream",
     "text": [
      "[WDM] - Downloading: 100%|█████████████████| 8.61M/8.61M [00:04<00:00, 2.23MB/s]\n"
     ]
    }
   ],
   "source": [
    "from selenium import webdriver\n",
    "from selenium.webdriver.chrome.options import Options\n",
    "from webdriver_manager.chrome import ChromeDriverManager\n",
    "from selenium.webdriver.common.by import By\n",
    "from joblib import Parallel, delayed \n",
    "from multiprocessing import get_context\n",
    "import multiprocessing as mp\n",
    "import time\n",
    "import pandas as pd\n",
    "from webdriver_manager.chrome import ChromeDriverManager\n",
    "PATH=ChromeDriverManager().install()\n",
    "import warnings\n",
    "warnings.filterwarnings('ignore')"
   ]
  },
  {
   "cell_type": "code",
   "execution_count": 2,
   "id": "d42375ea",
   "metadata": {},
   "outputs": [
    {
     "data": {
      "text/plain": [
       "'spawn'"
      ]
     },
     "execution_count": 2,
     "metadata": {},
     "output_type": "execute_result"
    }
   ],
   "source": [
    "mp.get_start_method()"
   ]
  },
  {
   "cell_type": "code",
   "execution_count": 4,
   "id": "ff4986d4",
   "metadata": {},
   "outputs": [],
   "source": [
    "pool=get_context('fork').Pool(mp.cpu_count()) "
   ]
  },
  {
   "cell_type": "code",
   "execution_count": 5,
   "id": "449070be",
   "metadata": {},
   "outputs": [],
   "source": [
    "pool=get_context('fork').Pool(6)"
   ]
  },
  {
   "cell_type": "code",
   "execution_count": 6,
   "id": "ce694e7d",
   "metadata": {},
   "outputs": [],
   "source": [
    "#driver configuration\n",
    "opciones=Options()\n",
    "\n",
    "opciones.add_experimental_option('excludeSwitches', ['enable-automation'])\n",
    "opciones.add_experimental_option('useAutomationExtension', False)\n",
    "opciones.headless=False    # si True, no aperece la ventana (headless=no visible)\n",
    "opciones.add_argument('--start-maximized')         # comienza maximizado\n",
    "#opciones.add_argument('user-data-dir=selenium')    # mantiene las cookies\n",
    "#opciones.add_extension('driver_folder/adblock.crx')       # adblocker\n",
    "opciones.add_argument('--incognito')"
   ]
  },
  {
   "cell_type": "code",
   "execution_count": null,
   "id": "a0091842",
   "metadata": {},
   "outputs": [],
   "source": [
    "#extraemos de los 9mil links, la info de las tablas para tener una unica tabla y agrupar todo\n",
    "def boe(i):\n",
    "    j=i\n",
    "    driver=webdriver.Chrome(PATH)\n",
    "    boe_url='https://subastas.boe.es/subastas_ava.php?campo%5B0%5D=SUBASTA.ORIGEN&dato%5B0%5D=&campo%5B1%5D=SUBASTA.AUTORIDAD&dato%5B1%5D=&campo%5B2%5D=SUBASTA.ESTADO&dato%5B2%5D=PC&campo%5B3%5D=BIEN.TIPO&dato%5B3%5D=I&dato%5B4%5D=501&campo%5B5%5D=BIEN.DIRECCION&dato%5B5%5D=&campo%5B6%5D=BIEN.CODPOSTAL&dato%5B6%5D=&campo%5B7%5D=BIEN.LOCALIDAD&dato%5B7%5D=&campo%5B8%5D=BIEN.COD_PROVINCIA&dato%5B8%5D=&campo%5B9%5D=SUBASTA.POSTURA_MINIMA_MINIMA_LOTES&dato%5B9%5D=&campo%5B10%5D=SUBASTA.NUM_CUENTA_EXPEDIENTE_1&dato%5B10%5D=&campo%5B11%5D=SUBASTA.NUM_CUENTA_EXPEDIENTE_2&dato%5B11%5D=&campo%5B12%5D=SUBASTA.NUM_CUENTA_EXPEDIENTE_3&dato%5B12%5D=&campo%5B13%5D=SUBASTA.NUM_CUENTA_EXPEDIENTE_4&dato%5B13%5D=&campo%5B14%5D=SUBASTA.NUM_CUENTA_EXPEDIENTE_5&dato%5B14%5D=&campo%5B15%5D=SUBASTA.ID_SUBASTA_BUSCAR&dato%5B15%5D=&campo%5B16%5D=SUBASTA.FECHA_FIN_YMD&dato%5B16%5D%5B0%5D=&dato%5B16%5D%5B1%5D=&campo%5B17%5D=SUBASTA.FECHA_INICIO_YMD&dato%5B17%5D%5B0%5D=&dato%5B17%5D%5B1%5D=&page_hits=500&sort_field%5B0%5D=SUBASTA.FECHA_FIN_YMD&sort_order%5B0%5D=desc&sort_field%5B1%5D=SUBASTA.FECHA_FIN_YMD&sort_order%5B1%5D=asc&sort_field%5B2%5D=SUBASTA.HORA_FIN&sort_order%5B2%5D=asc&accion=Buscar'\n",
    "    driver.get(boe_url)\n",
    "    time.sleep(2)\n",
    "    \n",
    "    \n",
    "    \n",
    "    nombre=driver.find_element(By.XPATH, f'//*[@id=\"contenido\"]/div[4]/ul/li[{j}]/h4').text   \n",
    "    tabla=driver.find_element(By.XPATH, f'//*[@id=\"contenido\"]/div[4]/ul/li[{i}]/ul/li/a').click()\n",
    "    time.sleep(2)\n",
    "    element= driver.find_element(By.TAG_NAME,'table')\n",
    "    filas=element.find_elements(By.TAG_NAME,'tr')\n",
    "    data=[]\n",
    "    for f in filas:\n",
    "        elemen=f.find_elements(By.TAG_NAME, 'td')\n",
    "        tmp=[]\n",
    "        for e in elemen:\n",
    "            tmp.append(e.text)\n",
    "            \n",
    "            \n",
    "            \n",
    "        data.append(tmp[0])\n",
    "    data.append(nombre)\n",
    "    driver.quit()\n",
    "    return data"
   ]
  },
  {
   "cell_type": "code",
   "execution_count": null,
   "id": "eb03571d",
   "metadata": {},
   "outputs": [],
   "source": [
    "def boe(i):\n",
    "    \n",
    "    driver=webdriver.Chrome(PATH)\n",
    "    boe_url='https://subastas.boe.es/subastas_ava.php?campo%5B0%5D=SUBASTA.ORIGEN&dato%5B0%5D=&campo%5B1%5D=SUBASTA.AUTORIDAD&dato%5B1%5D=&campo%5B2%5D=SUBASTA.ESTADO&dato%5B2%5D=PC&campo%5B3%5D=BIEN.TIPO&dato%5B3%5D=I&dato%5B4%5D=501&campo%5B5%5D=BIEN.DIRECCION&dato%5B5%5D=&campo%5B6%5D=BIEN.CODPOSTAL&dato%5B6%5D=&campo%5B7%5D=BIEN.LOCALIDAD&dato%5B7%5D=&campo%5B8%5D=BIEN.COD_PROVINCIA&dato%5B8%5D=&campo%5B9%5D=SUBASTA.POSTURA_MINIMA_MINIMA_LOTES&dato%5B9%5D=&campo%5B10%5D=SUBASTA.NUM_CUENTA_EXPEDIENTE_1&dato%5B10%5D=&campo%5B11%5D=SUBASTA.NUM_CUENTA_EXPEDIENTE_2&dato%5B11%5D=&campo%5B12%5D=SUBASTA.NUM_CUENTA_EXPEDIENTE_3&dato%5B12%5D=&campo%5B13%5D=SUBASTA.NUM_CUENTA_EXPEDIENTE_4&dato%5B13%5D=&campo%5B14%5D=SUBASTA.NUM_CUENTA_EXPEDIENTE_5&dato%5B14%5D=&campo%5B15%5D=SUBASTA.ID_SUBASTA_BUSCAR&dato%5B15%5D=&campo%5B16%5D=SUBASTA.FECHA_FIN_YMD&dato%5B16%5D%5B0%5D=&dato%5B16%5D%5B1%5D=&campo%5B17%5D=SUBASTA.FECHA_INICIO_YMD&dato%5B17%5D%5B0%5D=&dato%5B17%5D%5B1%5D=&page_hits=500&sort_field%5B0%5D=SUBASTA.FECHA_FIN_YMD&sort_order%5B0%5D=desc&sort_field%5B1%5D=SUBASTA.FECHA_FIN_YMD&sort_order%5B1%5D=asc&sort_field%5B2%5D=SUBASTA.HORA_FIN&sort_order%5B2%5D=asc&accion=Buscar'\n",
    "    driver.get(boe_url)\n",
    "    time.sleep(2)\n",
    "   \n",
    "   \n",
    "    link=driver.find_element(By.XPATH, f'//*[@id=\"contenido\"]/div[4]/ul/li[{i}]/ul/li/a').click()\n",
    "    \n",
    "    time.sleep(2)\n",
    "    pestaña=driver.find_element(By.XPATH, '//*[@id=\"tabs\"]/ul/li[3]/a').click()\n",
    "\n",
    "    time.sleep(2)\n",
    "    element= driver.find_element(By.TAG_NAME,'table') \n",
    "    filas=element.find_elements(By.TAG_NAME,'tr')\n",
    "    column=filas.find_elements(By.TAG_NAME,'th')\n",
    "    data=[]\n",
    "    for f in column:\n",
    "        if column = 'Identificador'\n",
    "            \n",
    "        elemen=f.find_elements(By.TAG_NAME, 'td')\n",
    "        tmp=[]\n",
    "        for e in elemen:\n",
    "            tmp.append(e.text)\n",
    "                    \n",
    "        data.append(tmp[0])\n",
    "    \n",
    "    driver.quit()\n",
    "    return data"
   ]
  },
  {
   "cell_type": "code",
   "execution_count": null,
   "id": "93048a3b",
   "metadata": {},
   "outputs": [],
   "source": [
    "boe(1)"
   ]
  },
  {
   "cell_type": "code",
   "execution_count": null,
   "id": "61564048",
   "metadata": {},
   "outputs": [],
   "source": [
    "lst=Parallel(n_jobs=-1, verbose=True)(delayed(utmb)(e) for e in range(1,501))"
   ]
  },
  {
   "cell_type": "code",
   "execution_count": null,
   "id": "ff83d391",
   "metadata": {},
   "outputs": [],
   "source": [
    "df=pd.DataFrame(lst)"
   ]
  },
  {
   "cell_type": "code",
   "execution_count": null,
   "id": "18b8657b",
   "metadata": {},
   "outputs": [],
   "source": [
    "df.to_csv('../data/BOE.csv', index=False, sep=',') "
   ]
  }
 ],
 "metadata": {
  "kernelspec": {
   "display_name": "Python 3 (ipykernel)",
   "language": "python",
   "name": "python3"
  },
  "language_info": {
   "codemirror_mode": {
    "name": "ipython",
    "version": 3
   },
   "file_extension": ".py",
   "mimetype": "text/x-python",
   "name": "python",
   "nbconvert_exporter": "python",
   "pygments_lexer": "ipython3",
   "version": "3.9.12"
  }
 },
 "nbformat": 4,
 "nbformat_minor": 5
}
