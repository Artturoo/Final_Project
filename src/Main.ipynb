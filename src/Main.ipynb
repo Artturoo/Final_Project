{
 "cells": [
  {
   "cell_type": "code",
   "execution_count": 4,
   "id": "1a8e6d55",
   "metadata": {},
   "outputs": [
    {
     "name": "stderr",
     "output_type": "stream",
     "text": [
      "[WDM] - Downloading: 100%|█████████████████| 8.61M/8.61M [00:02<00:00, 3.04MB/s]\n"
     ]
    }
   ],
   "source": [
    "from selenium import webdriver\n",
    "from selenium.webdriver.chrome.options import Options\n",
    "from webdriver_manager.chrome import ChromeDriverManager\n",
    "from selenium.webdriver.common.by import By\n",
    "from joblib import Parallel, delayed \n",
    "from multiprocessing import get_context\n",
    "import multiprocessing as mp\n",
    "import time\n",
    "import pandas as pd\n",
    "from webdriver_manager.chrome import ChromeDriverManager\n",
    "PATH=ChromeDriverManager().install()\n",
    "import warnings\n",
    "warnings.filterwarnings('ignore')"
   ]
  },
  {
   "cell_type": "code",
   "execution_count": 5,
   "id": "1dfab831",
   "metadata": {},
   "outputs": [
    {
     "data": {
      "text/plain": [
       "'spawn'"
      ]
     },
     "execution_count": 5,
     "metadata": {},
     "output_type": "execute_result"
    }
   ],
   "source": [
    "mp.get_start_method()"
   ]
  },
  {
   "cell_type": "code",
   "execution_count": 6,
   "id": "16e37a89",
   "metadata": {},
   "outputs": [],
   "source": [
    "pool=get_context('fork').Pool(mp.cpu_count()) "
   ]
  },
  {
   "cell_type": "code",
   "execution_count": 7,
   "id": "f1256c49",
   "metadata": {},
   "outputs": [
    {
     "data": {
      "text/plain": [
       "8"
      ]
     },
     "execution_count": 7,
     "metadata": {},
     "output_type": "execute_result"
    }
   ],
   "source": [
    "mp.cpu_count()"
   ]
  },
  {
   "cell_type": "code",
   "execution_count": 8,
   "id": "5f411468",
   "metadata": {},
   "outputs": [
    {
     "name": "stderr",
     "output_type": "stream",
     "text": [
      "Process ForkPoolWorker-15:\n",
      "Process ForkPoolWorker-9:\n",
      "Process ForkPoolWorker-11:\n",
      "Process ForkPoolWorker-10:\n",
      "Process ForkPoolWorker-16:\n",
      "Process ForkPoolWorker-14:\n",
      "Process ForkPoolWorker-12:\n",
      "Process ForkPoolWorker-13:\n",
      "Traceback (most recent call last):\n",
      "Traceback (most recent call last):\n",
      "Traceback (most recent call last):\n",
      "Traceback (most recent call last):\n",
      "Traceback (most recent call last):\n",
      "Traceback (most recent call last):\n",
      "Traceback (most recent call last):\n",
      "Traceback (most recent call last):\n",
      "  File \"/Users/arturo/opt/anaconda3/lib/python3.9/multiprocessing/process.py\", line 315, in _bootstrap\n",
      "    self.run()\n",
      "  File \"/Users/arturo/opt/anaconda3/lib/python3.9/multiprocessing/process.py\", line 315, in _bootstrap\n",
      "    self.run()\n",
      "  File \"/Users/arturo/opt/anaconda3/lib/python3.9/multiprocessing/process.py\", line 315, in _bootstrap\n",
      "    self.run()\n",
      "  File \"/Users/arturo/opt/anaconda3/lib/python3.9/multiprocessing/process.py\", line 315, in _bootstrap\n",
      "    self.run()\n",
      "  File \"/Users/arturo/opt/anaconda3/lib/python3.9/multiprocessing/process.py\", line 315, in _bootstrap\n",
      "    self.run()\n",
      "  File \"/Users/arturo/opt/anaconda3/lib/python3.9/multiprocessing/process.py\", line 315, in _bootstrap\n",
      "    self.run()\n",
      "  File \"/Users/arturo/opt/anaconda3/lib/python3.9/multiprocessing/process.py\", line 315, in _bootstrap\n",
      "    self.run()\n",
      "  File \"/Users/arturo/opt/anaconda3/lib/python3.9/multiprocessing/process.py\", line 315, in _bootstrap\n",
      "    self.run()\n",
      "  File \"/Users/arturo/opt/anaconda3/lib/python3.9/multiprocessing/process.py\", line 108, in run\n",
      "    self._target(*self._args, **self._kwargs)\n",
      "  File \"/Users/arturo/opt/anaconda3/lib/python3.9/multiprocessing/process.py\", line 108, in run\n",
      "    self._target(*self._args, **self._kwargs)\n",
      "  File \"/Users/arturo/opt/anaconda3/lib/python3.9/multiprocessing/process.py\", line 108, in run\n",
      "    self._target(*self._args, **self._kwargs)\n",
      "  File \"/Users/arturo/opt/anaconda3/lib/python3.9/multiprocessing/process.py\", line 108, in run\n",
      "    self._target(*self._args, **self._kwargs)\n",
      "  File \"/Users/arturo/opt/anaconda3/lib/python3.9/multiprocessing/process.py\", line 108, in run\n",
      "    self._target(*self._args, **self._kwargs)\n",
      "  File \"/Users/arturo/opt/anaconda3/lib/python3.9/multiprocessing/process.py\", line 108, in run\n",
      "    self._target(*self._args, **self._kwargs)\n",
      "  File \"/Users/arturo/opt/anaconda3/lib/python3.9/multiprocessing/process.py\", line 108, in run\n",
      "    self._target(*self._args, **self._kwargs)\n",
      "  File \"/Users/arturo/opt/anaconda3/lib/python3.9/multiprocessing/process.py\", line 108, in run\n",
      "    self._target(*self._args, **self._kwargs)\n",
      "  File \"/Users/arturo/opt/anaconda3/lib/python3.9/multiprocessing/pool.py\", line 114, in worker\n",
      "    task = get()\n",
      "  File \"/Users/arturo/opt/anaconda3/lib/python3.9/multiprocessing/pool.py\", line 114, in worker\n",
      "    task = get()\n",
      "  File \"/Users/arturo/opt/anaconda3/lib/python3.9/multiprocessing/pool.py\", line 114, in worker\n",
      "    task = get()\n",
      "  File \"/Users/arturo/opt/anaconda3/lib/python3.9/multiprocessing/pool.py\", line 114, in worker\n",
      "    task = get()\n",
      "  File \"/Users/arturo/opt/anaconda3/lib/python3.9/multiprocessing/pool.py\", line 114, in worker\n",
      "    task = get()\n",
      "  File \"/Users/arturo/opt/anaconda3/lib/python3.9/multiprocessing/pool.py\", line 114, in worker\n",
      "    task = get()\n",
      "  File \"/Users/arturo/opt/anaconda3/lib/python3.9/multiprocessing/pool.py\", line 114, in worker\n",
      "    task = get()\n",
      "  File \"/Users/arturo/opt/anaconda3/lib/python3.9/multiprocessing/pool.py\", line 114, in worker\n",
      "    task = get()\n",
      "  File \"/Users/arturo/opt/anaconda3/lib/python3.9/multiprocessing/queues.py\", line 365, in get\n",
      "    with self._rlock:\n",
      "  File \"/Users/arturo/opt/anaconda3/lib/python3.9/multiprocessing/queues.py\", line 366, in get\n",
      "    res = self._reader.recv_bytes()\n",
      "  File \"/Users/arturo/opt/anaconda3/lib/python3.9/multiprocessing/queues.py\", line 365, in get\n",
      "    with self._rlock:\n",
      "  File \"/Users/arturo/opt/anaconda3/lib/python3.9/multiprocessing/queues.py\", line 365, in get\n",
      "    with self._rlock:\n",
      "  File \"/Users/arturo/opt/anaconda3/lib/python3.9/multiprocessing/queues.py\", line 365, in get\n",
      "    with self._rlock:\n",
      "  File \"/Users/arturo/opt/anaconda3/lib/python3.9/multiprocessing/queues.py\", line 365, in get\n",
      "    with self._rlock:\n",
      "  File \"/Users/arturo/opt/anaconda3/lib/python3.9/multiprocessing/queues.py\", line 365, in get\n",
      "    with self._rlock:\n",
      "  File \"/Users/arturo/opt/anaconda3/lib/python3.9/multiprocessing/queues.py\", line 365, in get\n",
      "    with self._rlock:\n",
      "  File \"/Users/arturo/opt/anaconda3/lib/python3.9/multiprocessing/connection.py\", line 221, in recv_bytes\n",
      "    buf = self._recv_bytes(maxlength)\n",
      "  File \"/Users/arturo/opt/anaconda3/lib/python3.9/multiprocessing/synchronize.py\", line 95, in __enter__\n",
      "    return self._semlock.__enter__()\n",
      "  File \"/Users/arturo/opt/anaconda3/lib/python3.9/multiprocessing/synchronize.py\", line 95, in __enter__\n",
      "    return self._semlock.__enter__()\n",
      "  File \"/Users/arturo/opt/anaconda3/lib/python3.9/multiprocessing/synchronize.py\", line 95, in __enter__\n",
      "    return self._semlock.__enter__()\n",
      "  File \"/Users/arturo/opt/anaconda3/lib/python3.9/multiprocessing/synchronize.py\", line 95, in __enter__\n",
      "    return self._semlock.__enter__()\n",
      "  File \"/Users/arturo/opt/anaconda3/lib/python3.9/multiprocessing/synchronize.py\", line 95, in __enter__\n",
      "    return self._semlock.__enter__()\n",
      "  File \"/Users/arturo/opt/anaconda3/lib/python3.9/multiprocessing/synchronize.py\", line 95, in __enter__\n",
      "    return self._semlock.__enter__()\n",
      "  File \"/Users/arturo/opt/anaconda3/lib/python3.9/multiprocessing/synchronize.py\", line 95, in __enter__\n",
      "    return self._semlock.__enter__()\n",
      "  File \"/Users/arturo/opt/anaconda3/lib/python3.9/multiprocessing/connection.py\", line 419, in _recv_bytes\n",
      "    buf = self._recv(4)\n",
      "KeyboardInterrupt\n",
      "KeyboardInterrupt\n",
      "KeyboardInterrupt\n",
      "KeyboardInterrupt\n",
      "KeyboardInterrupt\n",
      "KeyboardInterrupt\n",
      "KeyboardInterrupt\n",
      "  File \"/Users/arturo/opt/anaconda3/lib/python3.9/multiprocessing/connection.py\", line 384, in _recv\n",
      "    chunk = read(handle, remaining)\n",
      "KeyboardInterrupt\n"
     ]
    }
   ],
   "source": [
    "pool=get_context('fork').Pool(8)"
   ]
  },
  {
   "cell_type": "code",
   "execution_count": 9,
   "id": "bcbc7625",
   "metadata": {},
   "outputs": [],
   "source": [
    "#driver configuration\n",
    "opciones=Options()\n",
    "\n",
    "opciones.add_experimental_option('excludeSwitches', ['enable-automation'])\n",
    "opciones.add_experimental_option('useAutomationExtension', False)\n",
    "opciones.headless=False    # si True, no aperece la ventana (headless=no visible)\n",
    "opciones.add_argument('--start-maximized')         # comienza maximizado\n",
    "#opciones.add_argument('user-data-dir=selenium')    # mantiene las cookies\n",
    "#opciones.add_extension('driver_folder/adblock.crx')       # adblocker\n",
    "opciones.add_argument('--incognito')"
   ]
  },
  {
   "cell_type": "markdown",
   "id": "0ded8a53",
   "metadata": {},
   "source": [
    "**SCRAPING PESTAÑA BIENES**"
   ]
  },
  {
   "cell_type": "code",
   "execution_count": 73,
   "id": "42585a14",
   "metadata": {},
   "outputs": [],
   "source": [
    "# duda? se me peta el codigo cuando va a entrar a la pestaña 3 'Bienes' pero no existe?\n",
    "#Funcion para sacar de la pestaña Bienes las columnas que necesito\n",
    "def boe(i):\n",
    "   \n",
    "    \n",
    "    driver=webdriver.Chrome(PATH)\n",
    "    boe_url='https://subastas.boe.es/subastas_ava.php?campo%5B0%5D=SUBASTA.ORIGEN&dato%5B0%5D=&campo%5B1%5D=SUBASTA.AUTORIDAD&dato%5B1%5D=&campo%5B2%5D=SUBASTA.ESTADO&dato%5B2%5D=PC&campo%5B3%5D=BIEN.TIPO&dato%5B3%5D=I&dato%5B4%5D=501&campo%5B5%5D=BIEN.DIRECCION&dato%5B5%5D=&campo%5B6%5D=BIEN.CODPOSTAL&dato%5B6%5D=&campo%5B7%5D=BIEN.LOCALIDAD&dato%5B7%5D=&campo%5B8%5D=BIEN.COD_PROVINCIA&dato%5B8%5D=&campo%5B9%5D=SUBASTA.POSTURA_MINIMA_MINIMA_LOTES&dato%5B9%5D=&campo%5B10%5D=SUBASTA.NUM_CUENTA_EXPEDIENTE_1&dato%5B10%5D=&campo%5B11%5D=SUBASTA.NUM_CUENTA_EXPEDIENTE_2&dato%5B11%5D=&campo%5B12%5D=SUBASTA.NUM_CUENTA_EXPEDIENTE_3&dato%5B12%5D=&campo%5B13%5D=SUBASTA.NUM_CUENTA_EXPEDIENTE_4&dato%5B13%5D=&campo%5B14%5D=SUBASTA.NUM_CUENTA_EXPEDIENTE_5&dato%5B14%5D=&campo%5B15%5D=SUBASTA.ID_SUBASTA_BUSCAR&dato%5B15%5D=&campo%5B16%5D=SUBASTA.FECHA_FIN_YMD&dato%5B16%5D%5B0%5D=&dato%5B16%5D%5B1%5D=&campo%5B17%5D=SUBASTA.FECHA_INICIO_YMD&dato%5B17%5D%5B0%5D=&dato%5B17%5D%5B1%5D=&page_hits=500&sort_field%5B0%5D=SUBASTA.FECHA_FIN_YMD&sort_order%5B0%5D=desc&sort_field%5B1%5D=SUBASTA.FECHA_FIN_YMD&sort_order%5B1%5D=asc&sort_field%5B2%5D=SUBASTA.HORA_FIN&sort_order%5B2%5D=asc&accion=Buscar'\n",
    "    driver.get(boe_url)\n",
    "    time.sleep(2)\n",
    "   \n",
    "    \n",
    "    tabla=driver.find_element(By.XPATH, f'//*[@id=\"contenido\"]/div[4]/ul/li[{i}]/ul/li/a').click()\n",
    "    \n",
    "    time.sleep(2)\n",
    "    #pestaña=driver.find_element(By.XPATH, '//*[@id=\"tabs\"]/ul/li[3]/a').click()\n",
    "    pestaña=driver.find_element(By.LINK_TEXT, 'Bienes').click()\n",
    "\n",
    "    time.sleep(2)\n",
    "    element= driver.find_element(By.TAG_NAME,'table') \n",
    "    filas=element.find_elements(By.TAG_NAME,'tr')\n",
    "    data=[]\n",
    "    for f in filas:\n",
    "        \n",
    "        nombre=f.find_elements(By.TAG_NAME, 'th')\n",
    "        elemen=f.find_elements(By.TAG_NAME, 'td')\n",
    "        tmp=[]\n",
    "        inp=[]\n",
    "        ele=[]\n",
    "        try:\n",
    "            for i,e in zip(nombre,elemen):\n",
    "                if i.text == 'Dirección':\n",
    "                    \n",
    "                    tmp.append(e.text)\n",
    "                                   \n",
    "                \n",
    "                if i.text =='Código Postal':\n",
    "\n",
    "                    tmp.append(e.text)\n",
    "\n",
    "                if i.text=='Localidad':\n",
    "\n",
    "                    tmp.append(e.text)\n",
    "                \n",
    "                if i.text=='Provincia':\n",
    "\n",
    "                    tmp.append(e.text)\n",
    "\n",
    "            data.append(tmp[0])\n",
    "        \n",
    "        except:\n",
    "            pass\n",
    "\n",
    "    driver.quit()\n",
    "    return data\n",
    "  \n",
    "   \n",
    "    "
   ]
  },
  {
   "cell_type": "code",
   "execution_count": 74,
   "id": "ed802540",
   "metadata": {},
   "outputs": [
    {
     "data": {
      "text/plain": [
       "['Urbanización Els Racons nº 5. partida Michafiga',\n",
       " '46220',\n",
       " 'Picassent',\n",
       " 'Valencia/València']"
      ]
     },
     "execution_count": 74,
     "metadata": {},
     "output_type": "execute_result"
    }
   ],
   "source": [
    "boe(1)"
   ]
  },
  {
   "cell_type": "markdown",
   "id": "d7902e2e",
   "metadata": {},
   "source": [
    "**SCRAPING PESTAÑA PUJAS**"
   ]
  },
  {
   "cell_type": "code",
   "execution_count": 69,
   "id": "0f89e385",
   "metadata": {},
   "outputs": [],
   "source": [
    "#Funcion pestaña puja\n",
    "def boe(i):\n",
    "   \n",
    "    driver=webdriver.Chrome(PATH)\n",
    "    boe_url='https://subastas.boe.es/subastas_ava.php?campo%5B0%5D=SUBASTA.ORIGEN&dato%5B0%5D=&campo%5B1%5D=SUBASTA.AUTORIDAD&dato%5B1%5D=&campo%5B2%5D=SUBASTA.ESTADO&dato%5B2%5D=PC&campo%5B3%5D=BIEN.TIPO&dato%5B3%5D=I&dato%5B4%5D=501&campo%5B5%5D=BIEN.DIRECCION&dato%5B5%5D=&campo%5B6%5D=BIEN.CODPOSTAL&dato%5B6%5D=&campo%5B7%5D=BIEN.LOCALIDAD&dato%5B7%5D=&campo%5B8%5D=BIEN.COD_PROVINCIA&dato%5B8%5D=&campo%5B9%5D=SUBASTA.POSTURA_MINIMA_MINIMA_LOTES&dato%5B9%5D=&campo%5B10%5D=SUBASTA.NUM_CUENTA_EXPEDIENTE_1&dato%5B10%5D=&campo%5B11%5D=SUBASTA.NUM_CUENTA_EXPEDIENTE_2&dato%5B11%5D=&campo%5B12%5D=SUBASTA.NUM_CUENTA_EXPEDIENTE_3&dato%5B12%5D=&campo%5B13%5D=SUBASTA.NUM_CUENTA_EXPEDIENTE_4&dato%5B13%5D=&campo%5B14%5D=SUBASTA.NUM_CUENTA_EXPEDIENTE_5&dato%5B14%5D=&campo%5B15%5D=SUBASTA.ID_SUBASTA_BUSCAR&dato%5B15%5D=&campo%5B16%5D=SUBASTA.FECHA_FIN_YMD&dato%5B16%5D%5B0%5D=&dato%5B16%5D%5B1%5D=&campo%5B17%5D=SUBASTA.FECHA_INICIO_YMD&dato%5B17%5D%5B0%5D=&dato%5B17%5D%5B1%5D=&page_hits=500&sort_field%5B0%5D=SUBASTA.FECHA_FIN_YMD&sort_order%5B0%5D=desc&sort_field%5B1%5D=SUBASTA.FECHA_FIN_YMD&sort_order%5B1%5D=asc&sort_field%5B2%5D=SUBASTA.HORA_FIN&sort_order%5B2%5D=asc&accion=Buscar'\n",
    "    driver.get(boe_url)\n",
    "    time.sleep(2)\n",
    "      \n",
    "    link=driver.find_element(By.XPATH, f'//*[@id=\"contenido\"]/div[4]/ul/li[{i}]/ul/li/a').click()\n",
    "    \n",
    "    time.sleep(2)\n",
    "    \n",
    "    \n",
    "    pestaña=driver.find_element(By.LINK_TEXT, 'Pujas').click()\n",
    "        \n",
    "    time.sleep(2)\n",
    "    \n",
    "    content = driver.find_element(By.CSS_SELECTOR, 'div.invisible')\n",
    "\n",
    "    filas=content.find_elements(By.TAG_NAME,'p')\n",
    "    \n",
    "    data=[]\n",
    "    for f in filas:\n",
    "        tmp=[]\n",
    "        try:\n",
    "            for i in filas:\n",
    "                    \n",
    "                    tmp.append(i.text)\n",
    "                                   \n",
    "            data.append(tmp[0])\n",
    "        \n",
    "        except:\n",
    "            pass\n",
    "\n",
    "    driver.quit()\n",
    "    return data   "
   ]
  },
  {
   "cell_type": "code",
   "execution_count": 70,
   "id": "22d62fca",
   "metadata": {},
   "outputs": [
    {
     "data": {
      "text/plain": [
       "['58.580,55 €']"
      ]
     },
     "execution_count": 70,
     "metadata": {},
     "output_type": "execute_result"
    }
   ],
   "source": [
    "boe(1)"
   ]
  },
  {
   "cell_type": "markdown",
   "id": "79639c17",
   "metadata": {},
   "source": [
    "**SCRAPING PRIMERA PESTAÑA**"
   ]
  },
  {
   "cell_type": "code",
   "execution_count": 79,
   "id": "712a8f7a",
   "metadata": {},
   "outputs": [],
   "source": [
    "#funcion primera pestaña\n",
    "def utmb(i):\n",
    "    driver=webdriver.Chrome(PATH)\n",
    "    boe_url='https://subastas.boe.es/subastas_ava.php?campo%5B0%5D=SUBASTA.ORIGEN&dato%5B0%5D=&campo%5B1%5D=SUBASTA.AUTORIDAD&dato%5B1%5D=&campo%5B2%5D=SUBASTA.ESTADO&dato%5B2%5D=PC&campo%5B3%5D=BIEN.TIPO&dato%5B3%5D=I&dato%5B4%5D=501&campo%5B5%5D=BIEN.DIRECCION&dato%5B5%5D=&campo%5B6%5D=BIEN.CODPOSTAL&dato%5B6%5D=&campo%5B7%5D=BIEN.LOCALIDAD&dato%5B7%5D=&campo%5B8%5D=BIEN.COD_PROVINCIA&dato%5B8%5D=&campo%5B9%5D=SUBASTA.POSTURA_MINIMA_MINIMA_LOTES&dato%5B9%5D=&campo%5B10%5D=SUBASTA.NUM_CUENTA_EXPEDIENTE_1&dato%5B10%5D=&campo%5B11%5D=SUBASTA.NUM_CUENTA_EXPEDIENTE_2&dato%5B11%5D=&campo%5B12%5D=SUBASTA.NUM_CUENTA_EXPEDIENTE_3&dato%5B12%5D=&campo%5B13%5D=SUBASTA.NUM_CUENTA_EXPEDIENTE_4&dato%5B13%5D=&campo%5B14%5D=SUBASTA.NUM_CUENTA_EXPEDIENTE_5&dato%5B14%5D=&campo%5B15%5D=SUBASTA.ID_SUBASTA_BUSCAR&dato%5B15%5D=&campo%5B16%5D=SUBASTA.FECHA_FIN_YMD&dato%5B16%5D%5B0%5D=&dato%5B16%5D%5B1%5D=&campo%5B17%5D=SUBASTA.FECHA_INICIO_YMD&dato%5B17%5D%5B0%5D=&dato%5B17%5D%5B1%5D=&page_hits=500&sort_field%5B0%5D=SUBASTA.FECHA_FIN_YMD&sort_order%5B0%5D=desc&sort_field%5B1%5D=SUBASTA.FECHA_FIN_YMD&sort_order%5B1%5D=asc&sort_field%5B2%5D=SUBASTA.HORA_FIN&sort_order%5B2%5D=asc&accion=Buscar'\n",
    "    driver.get(boe_url)\n",
    "    time.sleep(2)\n",
    "   \n",
    "    tabla=driver.find_element(By.XPATH, f'//*[@id=\"contenido\"]/div[4]/ul/li[{i}]/ul/li/a').click()\n",
    "    time.sleep(2)\n",
    "    element= driver.find_element(By.TAG_NAME,'table')\n",
    "    filas=element.find_elements(By.TAG_NAME,'tr')\n",
    "    data=[]\n",
    "    for f in filas:\n",
    "        \n",
    "        nombre=f.find_elements(By.TAG_NAME, 'th')\n",
    "        elemen=f.find_elements(By.TAG_NAME, 'td')\n",
    "        tmp=[]\n",
    "        try:\n",
    "            for i,e in zip(nombre,elemen):\n",
    "                if i.text == 'Identificador':\n",
    "                    \n",
    "                    tmp.append(e.text)\n",
    "                                   \n",
    "                \n",
    "                if i.text =='Tipo de subasta':\n",
    "\n",
    "                    tmp.append(e.text)\n",
    "\n",
    "                if i.text=='Cuenta expediente':\n",
    "\n",
    "                    tmp.append(e.text)\n",
    "                \n",
    "                if i.text=='Fecha de inicio':\n",
    "\n",
    "                    tmp.append(e.text)\n",
    "                if i.text == 'Fecha de conclusión':\n",
    "                    \n",
    "                    tmp.append(e.text)\n",
    "                                   \n",
    "                \n",
    "                if i.text =='Cantidad reclamada\t':\n",
    "\n",
    "                    tmp.append(e.text)\n",
    "\n",
    "                if i.text=='Anuncio BOE':\n",
    "\n",
    "                    tmp.append(e.text)\n",
    "                \n",
    "                if i.text=='Valor subasta':\n",
    "\n",
    "                    tmp.append(e.text)\n",
    "                    \n",
    "                if i.text=='Tasación':\n",
    "\n",
    "                    tmp.append(e.text)\n",
    "                    \n",
    "                if i.text=='Puja mínima':\n",
    "\n",
    "                    tmp.append(e.text)\n",
    "                    \n",
    "                if i.text=='Tramos entre pujas':\n",
    "\n",
    "                    tmp.append(e.text)\n",
    "                    \n",
    "                if i.text=='Importe del depósito':\n",
    "\n",
    "                    tmp.append(e.text)\n",
    "\n",
    "            data.append(tmp[0])\n",
    "        \n",
    "        except:\n",
    "            pass\n",
    "        \n",
    "    driver.quit()\n",
    "    return data"
   ]
  },
  {
   "cell_type": "code",
   "execution_count": 80,
   "id": "5d183feb",
   "metadata": {},
   "outputs": [
    {
     "data": {
      "text/plain": [
       "['SUB-JA-2022-204013',\n",
       " 'JUDICIAL EN VÍA DE APREMIO',\n",
       " '4743 0000 05 1018 20',\n",
       " '17-11-2022 18:00:00 CET (ISO: 2022-11-17T18:00:00+01:00)',\n",
       " '08-12-2022 00:00:48 CET (ISO: 2022-12-08T00:00:48+01:00)',\n",
       " 'BOE-B-2022-35270',\n",
       " '108.482,68 €',\n",
       " '0,00 €',\n",
       " 'Sin puja mínima',\n",
       " '2.169,65 €',\n",
       " '5.424,13 €']"
      ]
     },
     "execution_count": 80,
     "metadata": {},
     "output_type": "execute_result"
    }
   ],
   "source": [
    "utmb(1)"
   ]
  },
  {
   "cell_type": "code",
   "execution_count": null,
   "id": "f870748b",
   "metadata": {},
   "outputs": [],
   "source": []
  },
  {
   "cell_type": "markdown",
   "id": "260b0f22",
   "metadata": {},
   "source": [
    "**FUNCION QUE ME COJA LAS 3 PESTAÑAS**"
   ]
  },
  {
   "cell_type": "code",
   "execution_count": 88,
   "id": "04b5af24",
   "metadata": {},
   "outputs": [
    {
     "name": "stdout",
     "output_type": "stream",
     "text": [
      "Requirement already satisfied: tqdm in /Users/arturo/opt/anaconda3/lib/python3.9/site-packages (4.64.0)\n",
      "Note: you may need to restart the kernel to use updated packages.\n"
     ]
    }
   ],
   "source": [
    "%pip install tqdm"
   ]
  },
  {
   "cell_type": "code",
   "execution_count": 89,
   "id": "da2b3f1b",
   "metadata": {},
   "outputs": [],
   "source": [
    "from tqdm.notebook import tqdm "
   ]
  },
  {
   "cell_type": "code",
   "execution_count": 114,
   "id": "6142f9b3",
   "metadata": {},
   "outputs": [],
   "source": [
    "#tengo que poner que pase a la pagina siguiene cuando termine!!\n",
    "def boe(i):\n",
    "    driver=webdriver.Chrome(PATH)\n",
    "    boe_url='https://subastas.boe.es/subastas_ava.php?campo%5B0%5D=SUBASTA.ORIGEN&dato%5B0%5D=&campo%5B1%5D=SUBASTA.AUTORIDAD&dato%5B1%5D=&campo%5B2%5D=SUBASTA.ESTADO&dato%5B2%5D=PC&campo%5B3%5D=BIEN.TIPO&dato%5B3%5D=I&dato%5B4%5D=501&campo%5B5%5D=BIEN.DIRECCION&dato%5B5%5D=&campo%5B6%5D=BIEN.CODPOSTAL&dato%5B6%5D=&campo%5B7%5D=BIEN.LOCALIDAD&dato%5B7%5D=&campo%5B8%5D=BIEN.COD_PROVINCIA&dato%5B8%5D=&campo%5B9%5D=SUBASTA.POSTURA_MINIMA_MINIMA_LOTES&dato%5B9%5D=&campo%5B10%5D=SUBASTA.NUM_CUENTA_EXPEDIENTE_1&dato%5B10%5D=&campo%5B11%5D=SUBASTA.NUM_CUENTA_EXPEDIENTE_2&dato%5B11%5D=&campo%5B12%5D=SUBASTA.NUM_CUENTA_EXPEDIENTE_3&dato%5B12%5D=&campo%5B13%5D=SUBASTA.NUM_CUENTA_EXPEDIENTE_4&dato%5B13%5D=&campo%5B14%5D=SUBASTA.NUM_CUENTA_EXPEDIENTE_5&dato%5B14%5D=&campo%5B15%5D=SUBASTA.ID_SUBASTA_BUSCAR&dato%5B15%5D=&campo%5B16%5D=SUBASTA.FECHA_FIN_YMD&dato%5B16%5D%5B0%5D=&dato%5B16%5D%5B1%5D=&campo%5B17%5D=SUBASTA.FECHA_INICIO_YMD&dato%5B17%5D%5B0%5D=&dato%5B17%5D%5B1%5D=&page_hits=500&sort_field%5B0%5D=SUBASTA.FECHA_FIN_YMD&sort_order%5B0%5D=desc&sort_field%5B1%5D=SUBASTA.FECHA_FIN_YMD&sort_order%5B1%5D=asc&sort_field%5B2%5D=SUBASTA.HORA_FIN&sort_order%5B2%5D=asc&accion=Buscar'\n",
    "    driver.get(boe_url)\n",
    "    time.sleep(2)\n",
    "   \n",
    "    link=driver.find_element(By.XPATH, f'//*[@id=\"contenido\"]/div[4]/ul/li[{i}]/ul/li/a').click()\n",
    "    time.sleep(2)\n",
    "    element= driver.find_element(By.TAG_NAME,'table')\n",
    "    filas=element.find_elements(By.TAG_NAME,'tr')\n",
    "    data=[]\n",
    "    \n",
    "    #salto_pag=f.find_elements(By.TAG_NAME, 'ul')\n",
    "    #salto_pagi=salto_pag.find_elements(By.TAG_NAME, 'li')\n",
    "    #salto_pagina=salto_pagi.find_element(By.XPATH, f'//*[@id=\"contenido\"]/div[6]/ul/li[{m}]/a').click()\n",
    "\n",
    "    \n",
    "    \n",
    "    \n",
    "    #sacamos los datos de la primera pestaña \n",
    "    for f in filas:\n",
    "        \n",
    "        nombre=f.find_elements(By.TAG_NAME, 'th')\n",
    "        elemen=f.find_elements(By.TAG_NAME, 'td')\n",
    "        tmp=[]\n",
    "       \n",
    "        try:\n",
    "            for i,e in zip(nombre,elemen):\n",
    "                if i.text == 'Identificador':                    \n",
    "                    tmp.append(e.text)\n",
    "                                                   \n",
    "                if i.text =='Tipo de subasta':\n",
    "                    tmp.append(e.text)\n",
    "\n",
    "                if i.text=='Cuenta expediente':\n",
    "                    tmp.append(e.text)\n",
    "                \n",
    "                if i.text=='Fecha de inicio':\n",
    "                    tmp.append(e.text)\n",
    "                if i.text == 'Fecha de conclusión':                    \n",
    "                    tmp.append(e.text)\n",
    "                                                   \n",
    "                if i.text =='Cantidad reclamada':\n",
    "                    tmp.append(e.text)\n",
    "\n",
    "                if i.text=='Anuncio BOE':\n",
    "                    tmp.append(e.text)\n",
    "                \n",
    "                if i.text=='Valor subasta':\n",
    "                    tmp.append(e.text)\n",
    "                    \n",
    "                if i.text=='Tasación':\n",
    "                    tmp.append(e.text)\n",
    "                    \n",
    "                if i.text=='Puja mínima':\n",
    "                    tmp.append(e.text)\n",
    "                    \n",
    "                if i.text=='Tramos entre pujas':\n",
    "                    tmp.append(e.text)\n",
    "                    \n",
    "                if i.text=='Importe del depósito':\n",
    "                    tmp.append(e.text)\n",
    "\n",
    "            data.append(tmp[0])\n",
    "        \n",
    "        except:\n",
    "            pass\n",
    "        \n",
    "        #ahora sacamos los datos de la segunda pestaña \n",
    "\n",
    "    pestañab=driver.find_element(By.LINK_TEXT, 'Bienes').click()\n",
    "\n",
    "    time.sleep(2)\n",
    "    elementb= driver.find_element(By.TAG_NAME,'table') \n",
    "    filasb=elementb.find_elements(By.TAG_NAME,'tr')\n",
    "    data2=[]\n",
    "\n",
    "    for f in filasb:\n",
    "\n",
    "        nombreb=f.find_elements(By.TAG_NAME, 'th')\n",
    "        elemenb=f.find_elements(By.TAG_NAME, 'td')\n",
    "        tmp2=[]\n",
    "        try:\n",
    "            for i,e in zip(nombreb,elemenb):\n",
    "                if i.text == 'Dirección':\n",
    "                    tmp2.append(e.text)\n",
    "\n",
    "                if i.text =='Código Postal':\n",
    "                    tmp2.append(e.text)\n",
    "\n",
    "                if i.text=='Localidad':\n",
    "                    tmp2.append(e.text)\n",
    "\n",
    "                if i.text=='Provincia':\n",
    "                    tmp2.append(e.text)\n",
    "\n",
    "            data2.append(tmp2[0])\n",
    "\n",
    "        except:\n",
    "            pass\n",
    "\n",
    "  #sacamos los datos de la ultima pestaña\n",
    "\n",
    "    pestañap=driver.find_element(By.LINK_TEXT, 'Pujas').click()       \n",
    "    time.sleep(2)\n",
    "\n",
    "    contentp = driver.find_element(By.CSS_SELECTOR, 'div.invisible')\n",
    "    filasp=contentp.find_elements(By.TAG_NAME,'p')\n",
    "    data3=[]\n",
    "\n",
    "    for f in filasp:\n",
    "        tmp3=[]\n",
    "        try:\n",
    "            for i in filasp:\n",
    "\n",
    "                    tmp3.append(i.text)\n",
    "\n",
    "            data3.append(tmp3[0])\n",
    "\n",
    "        except:\n",
    "            pass\n",
    "                        \n",
    "        \n",
    "        \n",
    "        \n",
    "    driver.quit()\n",
    "    \n",
    "    boe= data + data2+ data3\n",
    "    return (boe)  \n",
    "    "
   ]
  },
  {
   "cell_type": "code",
   "execution_count": 105,
   "id": "e3066264",
   "metadata": {},
   "outputs": [
    {
     "data": {
      "text/plain": [
       "(['SUB-JA-2022-204013',\n",
       "  'JUDICIAL EN VÍA DE APREMIO',\n",
       "  '4743 0000 05 1018 20',\n",
       "  '17-11-2022 18:00:00 CET (ISO: 2022-11-17T18:00:00+01:00)',\n",
       "  '08-12-2022 00:00:48 CET (ISO: 2022-12-08T00:00:48+01:00)',\n",
       "  '7.145,84 €',\n",
       "  'BOE-B-2022-35270',\n",
       "  '108.482,68 €',\n",
       "  '0,00 €',\n",
       "  'Sin puja mínima',\n",
       "  '2.169,65 €',\n",
       "  '5.424,13 €'],\n",
       " ['Urbanización Els Racons nº 5. partida Michafiga',\n",
       "  '46220',\n",
       "  'Picassent',\n",
       "  'Valencia/València'],\n",
       " ['58.580,55 €'])"
      ]
     },
     "execution_count": 105,
     "metadata": {},
     "output_type": "execute_result"
    }
   ],
   "source": [
    "boe(1)"
   ]
  },
  {
   "cell_type": "code",
   "execution_count": 115,
   "id": "b2d353b0",
   "metadata": {},
   "outputs": [
    {
     "name": "stderr",
     "output_type": "stream",
     "text": [
      "[Parallel(n_jobs=-1)]: Using backend LokyBackend with 8 concurrent workers.\n",
      "/var/folders/jp/yhf41mgn0cdf11bv_9bsyftm0000gn/T/ipykernel_990/3776515482.py:3: DeprecationWarning: executable_path has been deprecated, please pass in a Service object\n",
      "/var/folders/jp/yhf41mgn0cdf11bv_9bsyftm0000gn/T/ipykernel_990/3776515482.py:3: DeprecationWarning: executable_path has been deprecated, please pass in a Service object\n",
      "[Parallel(n_jobs=-1)]: Done   2 out of   2 | elapsed:   36.0s remaining:    0.0s\n",
      "[Parallel(n_jobs=-1)]: Done   2 out of   2 | elapsed:   36.0s finished\n"
     ]
    }
   ],
   "source": [
    "lst=Parallel(n_jobs=-1, verbose=True)(delayed(boe)(e) for e in range(1,3))"
   ]
  },
  {
   "cell_type": "code",
   "execution_count": 116,
   "id": "02742310",
   "metadata": {},
   "outputs": [],
   "source": [
    "df=pd.DataFrame(lst)"
   ]
  },
  {
   "cell_type": "code",
   "execution_count": 117,
   "id": "b961b451",
   "metadata": {},
   "outputs": [
    {
     "data": {
      "text/html": [
       "<div>\n",
       "<style scoped>\n",
       "    .dataframe tbody tr th:only-of-type {\n",
       "        vertical-align: middle;\n",
       "    }\n",
       "\n",
       "    .dataframe tbody tr th {\n",
       "        vertical-align: top;\n",
       "    }\n",
       "\n",
       "    .dataframe thead th {\n",
       "        text-align: right;\n",
       "    }\n",
       "</style>\n",
       "<table border=\"1\" class=\"dataframe\">\n",
       "  <thead>\n",
       "    <tr style=\"text-align: right;\">\n",
       "      <th></th>\n",
       "      <th>0</th>\n",
       "      <th>1</th>\n",
       "      <th>2</th>\n",
       "      <th>3</th>\n",
       "      <th>4</th>\n",
       "      <th>5</th>\n",
       "      <th>6</th>\n",
       "      <th>7</th>\n",
       "      <th>8</th>\n",
       "      <th>9</th>\n",
       "      <th>10</th>\n",
       "      <th>11</th>\n",
       "      <th>12</th>\n",
       "      <th>13</th>\n",
       "      <th>14</th>\n",
       "      <th>15</th>\n",
       "      <th>16</th>\n",
       "    </tr>\n",
       "  </thead>\n",
       "  <tbody>\n",
       "    <tr>\n",
       "      <th>0</th>\n",
       "      <td>SUB-JA-2022-204013</td>\n",
       "      <td>JUDICIAL EN VÍA DE APREMIO</td>\n",
       "      <td>4743 0000 05 1018 20</td>\n",
       "      <td>17-11-2022 18:00:00 CET (ISO: 2022-11-17T18:00...</td>\n",
       "      <td>08-12-2022 00:00:48 CET (ISO: 2022-12-08T00:00...</td>\n",
       "      <td>7.145,84 €</td>\n",
       "      <td>BOE-B-2022-35270</td>\n",
       "      <td>108.482,68 €</td>\n",
       "      <td>0,00 €</td>\n",
       "      <td>Sin puja mínima</td>\n",
       "      <td>2.169,65 €</td>\n",
       "      <td>5.424,13 €</td>\n",
       "      <td>Urbanización Els Racons nº 5. partida Michafiga</td>\n",
       "      <td>46220</td>\n",
       "      <td>Picassent</td>\n",
       "      <td>Valencia/València</td>\n",
       "      <td>58.580,55 €</td>\n",
       "    </tr>\n",
       "    <tr>\n",
       "      <th>1</th>\n",
       "      <td>SUB-JA-2022-196067</td>\n",
       "      <td>JUDICIAL EN VÍA DE APREMIO</td>\n",
       "      <td>2368 0000 06 0191 20</td>\n",
       "      <td>17-11-2022 18:00:00 CET (ISO: 2022-11-17T18:00...</td>\n",
       "      <td>08-12-2022 00:24:41 CET (ISO: 2022-12-08T00:24...</td>\n",
       "      <td>142.298,34 €</td>\n",
       "      <td>BOE-B-2022-35269</td>\n",
       "      <td>305.832,00 €</td>\n",
       "      <td>0,00 €</td>\n",
       "      <td>Sin puja mínima</td>\n",
       "      <td>6.116,64 €</td>\n",
       "      <td>15.291,60 €</td>\n",
       "      <td>CALLE GABRIEL GARCÍA MÁRQUEZ, 31</td>\n",
       "      <td>28980</td>\n",
       "      <td>PARLA</td>\n",
       "      <td>Madrid</td>\n",
       "      <td>177.382,56 €</td>\n",
       "    </tr>\n",
       "  </tbody>\n",
       "</table>\n",
       "</div>"
      ],
      "text/plain": [
       "                   0                           1                     2   \\\n",
       "0  SUB-JA-2022-204013  JUDICIAL EN VÍA DE APREMIO  4743 0000 05 1018 20   \n",
       "1  SUB-JA-2022-196067  JUDICIAL EN VÍA DE APREMIO  2368 0000 06 0191 20   \n",
       "\n",
       "                                                  3   \\\n",
       "0  17-11-2022 18:00:00 CET (ISO: 2022-11-17T18:00...   \n",
       "1  17-11-2022 18:00:00 CET (ISO: 2022-11-17T18:00...   \n",
       "\n",
       "                                                  4             5   \\\n",
       "0  08-12-2022 00:00:48 CET (ISO: 2022-12-08T00:00...    7.145,84 €   \n",
       "1  08-12-2022 00:24:41 CET (ISO: 2022-12-08T00:24...  142.298,34 €   \n",
       "\n",
       "                 6             7       8                9           10  \\\n",
       "0  BOE-B-2022-35270  108.482,68 €  0,00 €  Sin puja mínima  2.169,65 €   \n",
       "1  BOE-B-2022-35269  305.832,00 €  0,00 €  Sin puja mínima  6.116,64 €   \n",
       "\n",
       "            11                                               12     13  \\\n",
       "0   5.424,13 €  Urbanización Els Racons nº 5. partida Michafiga  46220   \n",
       "1  15.291,60 €                 CALLE GABRIEL GARCÍA MÁRQUEZ, 31  28980   \n",
       "\n",
       "          14                 15            16  \n",
       "0  Picassent  Valencia/València   58.580,55 €  \n",
       "1      PARLA             Madrid  177.382,56 €  "
      ]
     },
     "execution_count": 117,
     "metadata": {},
     "output_type": "execute_result"
    }
   ],
   "source": [
    "df.head()"
   ]
  },
  {
   "cell_type": "code",
   "execution_count": 110,
   "id": "46877aaa",
   "metadata": {},
   "outputs": [
    {
     "name": "stdout",
     "output_type": "stream",
     "text": [
      "                                                   0  \\\n",
      "0  [SUB-JA-2022-204013, JUDICIAL EN VÍA DE APREMI...   \n",
      "1  [SUB-JA-2022-196067, JUDICIAL EN VÍA DE APREMI...   \n",
      "\n",
      "                                                   1               2  \n",
      "0  [Urbanización Els Racons nº 5. partida Michafi...   [58.580,55 €]  \n",
      "1  [CALLE GABRIEL GARCÍA MÁRQUEZ, 31, 28980, PARL...  [177.382,56 €]  \n"
     ]
    }
   ],
   "source": [
    "df2 = "
   ]
  },
  {
   "cell_type": "code",
   "execution_count": null,
   "id": "cfd779e1",
   "metadata": {},
   "outputs": [],
   "source": []
  },
  {
   "cell_type": "code",
   "execution_count": null,
   "id": "cf500950",
   "metadata": {},
   "outputs": [],
   "source": []
  },
  {
   "cell_type": "code",
   "execution_count": null,
   "id": "29eaab6f",
   "metadata": {},
   "outputs": [],
   "source": []
  },
  {
   "cell_type": "code",
   "execution_count": null,
   "id": "d9cb41c2",
   "metadata": {},
   "outputs": [],
   "source": [
    "#Funcion para sacar de la pestaña Bienes las columnas que necesito\n",
    "def boe(i):\n",
    "   \n",
    "    \n",
    "    driver=webdriver.Chrome(PATH)\n",
    "    boe_url='https://subastas.boe.es/subastas_ava.php?campo%5B0%5D=SUBASTA.ORIGEN&dato%5B0%5D=&campo%5B1%5D=SUBASTA.AUTORIDAD&dato%5B1%5D=&campo%5B2%5D=SUBASTA.ESTADO&dato%5B2%5D=PC&campo%5B3%5D=BIEN.TIPO&dato%5B3%5D=I&dato%5B4%5D=501&campo%5B5%5D=BIEN.DIRECCION&dato%5B5%5D=&campo%5B6%5D=BIEN.CODPOSTAL&dato%5B6%5D=&campo%5B7%5D=BIEN.LOCALIDAD&dato%5B7%5D=&campo%5B8%5D=BIEN.COD_PROVINCIA&dato%5B8%5D=&campo%5B9%5D=SUBASTA.POSTURA_MINIMA_MINIMA_LOTES&dato%5B9%5D=&campo%5B10%5D=SUBASTA.NUM_CUENTA_EXPEDIENTE_1&dato%5B10%5D=&campo%5B11%5D=SUBASTA.NUM_CUENTA_EXPEDIENTE_2&dato%5B11%5D=&campo%5B12%5D=SUBASTA.NUM_CUENTA_EXPEDIENTE_3&dato%5B12%5D=&campo%5B13%5D=SUBASTA.NUM_CUENTA_EXPEDIENTE_4&dato%5B13%5D=&campo%5B14%5D=SUBASTA.NUM_CUENTA_EXPEDIENTE_5&dato%5B14%5D=&campo%5B15%5D=SUBASTA.ID_SUBASTA_BUSCAR&dato%5B15%5D=&campo%5B16%5D=SUBASTA.FECHA_FIN_YMD&dato%5B16%5D%5B0%5D=&dato%5B16%5D%5B1%5D=&campo%5B17%5D=SUBASTA.FECHA_INICIO_YMD&dato%5B17%5D%5B0%5D=&dato%5B17%5D%5B1%5D=&page_hits=500&sort_field%5B0%5D=SUBASTA.FECHA_FIN_YMD&sort_order%5B0%5D=desc&sort_field%5B1%5D=SUBASTA.FECHA_FIN_YMD&sort_order%5B1%5D=asc&sort_field%5B2%5D=SUBASTA.HORA_FIN&sort_order%5B2%5D=asc&accion=Buscar'\n",
    "    driver.get(boe_url)\n",
    "    time.sleep(2)\n",
    "   \n",
    "    \n",
    "    tabla=driver.find_element(By.XPATH, f'//*[@id=\"contenido\"]/div[4]/ul/li[{i}]/ul/li/a').click()\n",
    "    \n",
    "    time.sleep(2)\n",
    "    #pestaña=driver.find_element(By.XPATH, '//*[@id=\"tabs\"]/ul/li[3]/a').click()\n",
    "    pestaña=driver.find_element(By.LINK_TEXT, 'Bienes').click()\n",
    "\n",
    "    time.sleep(2)\n",
    "    element= driver.find_element(By.TAG_NAME,'table') \n",
    "    filas=element.find_elements(By.TAG_NAME,'tr')\n",
    "    data=[]\n",
    "    for f in filas:\n",
    "        \n",
    "        nombre=f.find_elements(By.TAG_NAME, 'th')\n",
    "        elemen=f.find_elements(By.TAG_NAME, 'td')\n",
    "        tmp=[]\n",
    "        inp=[]\n",
    "        ele=[]\n",
    "        try:\n",
    "            for i,e in zip(nombre,elemen):\n",
    "                if i.text == 'Dirección':\n",
    "                    \n",
    "                    tmp.append(e.text)\n",
    "                                   \n",
    "                \n",
    "                if i.text =='Código Postal':\n",
    "\n",
    "                    tmp.append(e.text)\n",
    "\n",
    "                if i.text=='Localidad':\n",
    "\n",
    "                    tmp.append(e.text)\n",
    "                \n",
    "                if i.text=='Provincia':\n",
    "\n",
    "                    tmp.append(e.text)\n",
    "\n",
    "            data.append(tmp[0])\n",
    "        \n",
    "        except:\n",
    "            pass\n",
    "        \n",
    "\n",
    "    driver.quit()\n",
    "    return data\n",
    "  \n",
    "   \n",
    "    "
   ]
  },
  {
   "cell_type": "code",
   "execution_count": null,
   "id": "980fd39a",
   "metadata": {},
   "outputs": [],
   "source": [
    "#Funcion pestaña puja\n",
    "def boe(i):\n",
    "   \n",
    "    driver=webdriver.Chrome(PATH)\n",
    "    boe_url='https://subastas.boe.es/subastas_ava.php?campo%5B0%5D=SUBASTA.ORIGEN&dato%5B0%5D=&campo%5B1%5D=SUBASTA.AUTORIDAD&dato%5B1%5D=&campo%5B2%5D=SUBASTA.ESTADO&dato%5B2%5D=PC&campo%5B3%5D=BIEN.TIPO&dato%5B3%5D=I&dato%5B4%5D=501&campo%5B5%5D=BIEN.DIRECCION&dato%5B5%5D=&campo%5B6%5D=BIEN.CODPOSTAL&dato%5B6%5D=&campo%5B7%5D=BIEN.LOCALIDAD&dato%5B7%5D=&campo%5B8%5D=BIEN.COD_PROVINCIA&dato%5B8%5D=&campo%5B9%5D=SUBASTA.POSTURA_MINIMA_MINIMA_LOTES&dato%5B9%5D=&campo%5B10%5D=SUBASTA.NUM_CUENTA_EXPEDIENTE_1&dato%5B10%5D=&campo%5B11%5D=SUBASTA.NUM_CUENTA_EXPEDIENTE_2&dato%5B11%5D=&campo%5B12%5D=SUBASTA.NUM_CUENTA_EXPEDIENTE_3&dato%5B12%5D=&campo%5B13%5D=SUBASTA.NUM_CUENTA_EXPEDIENTE_4&dato%5B13%5D=&campo%5B14%5D=SUBASTA.NUM_CUENTA_EXPEDIENTE_5&dato%5B14%5D=&campo%5B15%5D=SUBASTA.ID_SUBASTA_BUSCAR&dato%5B15%5D=&campo%5B16%5D=SUBASTA.FECHA_FIN_YMD&dato%5B16%5D%5B0%5D=&dato%5B16%5D%5B1%5D=&campo%5B17%5D=SUBASTA.FECHA_INICIO_YMD&dato%5B17%5D%5B0%5D=&dato%5B17%5D%5B1%5D=&page_hits=500&sort_field%5B0%5D=SUBASTA.FECHA_FIN_YMD&sort_order%5B0%5D=desc&sort_field%5B1%5D=SUBASTA.FECHA_FIN_YMD&sort_order%5B1%5D=asc&sort_field%5B2%5D=SUBASTA.HORA_FIN&sort_order%5B2%5D=asc&accion=Buscar'\n",
    "    driver.get(boe_url)\n",
    "    time.sleep(2)\n",
    "      \n",
    "    link=driver.find_element(By.XPATH, f'//*[@id=\"contenido\"]/div[4]/ul/li[{i}]/ul/li/a').click()\n",
    "    \n",
    "    time.sleep(2)\n",
    "    \n",
    "    \n",
    "    pestaña=driver.find_element(By.LINK_TEXT, 'Pujas').click()\n",
    "        \n",
    "    time.sleep(2)\n",
    "    \n",
    "    content = driver.find_element(By.CSS_SELECTOR, 'div.invisible')\n",
    "\n",
    "    filas=content.find_elements(By.TAG_NAME,'p')\n",
    "    \n",
    "    data=[]\n",
    "    for f in filas:\n",
    "        tmp=[]\n",
    "        try:\n",
    "            for i in filas:\n",
    "                    \n",
    "                    tmp.append(i.text)\n",
    "                                   \n",
    "            data.append(tmp[0])\n",
    "        \n",
    "        except:\n",
    "            pass\n",
    "\n",
    "    driver.quit()\n",
    "    return data   "
   ]
  },
  {
   "cell_type": "code",
   "execution_count": null,
   "id": "ed9538e5",
   "metadata": {},
   "outputs": [],
   "source": []
  },
  {
   "cell_type": "code",
   "execution_count": null,
   "id": "fd6cba3d",
   "metadata": {},
   "outputs": [],
   "source": []
  },
  {
   "cell_type": "code",
   "execution_count": null,
   "id": "aec9a7fb",
   "metadata": {},
   "outputs": [],
   "source": []
  },
  {
   "cell_type": "code",
   "execution_count": null,
   "id": "1ee3201a",
   "metadata": {},
   "outputs": [],
   "source": []
  },
  {
   "cell_type": "code",
   "execution_count": null,
   "id": "7910bf70",
   "metadata": {},
   "outputs": [],
   "source": []
  },
  {
   "cell_type": "code",
   "execution_count": null,
   "id": "e4578411",
   "metadata": {},
   "outputs": [],
   "source": []
  },
  {
   "cell_type": "code",
   "execution_count": null,
   "id": "fc2908d2",
   "metadata": {},
   "outputs": [],
   "source": []
  },
  {
   "cell_type": "code",
   "execution_count": null,
   "id": "bc2c7fb1",
   "metadata": {},
   "outputs": [],
   "source": []
  },
  {
   "cell_type": "code",
   "execution_count": null,
   "id": "1b999b8c",
   "metadata": {},
   "outputs": [],
   "source": [
    "lst=Parallel(n_jobs=-1, verbose=True)(delayed(boe)(e) for e in range(1,501))"
   ]
  },
  {
   "cell_type": "code",
   "execution_count": null,
   "id": "b63eb61e",
   "metadata": {},
   "outputs": [],
   "source": [
    "df=pd.DataFrame(lst)"
   ]
  },
  {
   "cell_type": "code",
   "execution_count": null,
   "id": "55933b8f",
   "metadata": {},
   "outputs": [],
   "source": [
    "df.to_csv('../data/BOE.csv', index=False, sep=',') "
   ]
  }
 ],
 "metadata": {
  "kernelspec": {
   "display_name": "Python 3 (ipykernel)",
   "language": "python",
   "name": "python3"
  },
  "language_info": {
   "codemirror_mode": {
    "name": "ipython",
    "version": 3
   },
   "file_extension": ".py",
   "mimetype": "text/x-python",
   "name": "python",
   "nbconvert_exporter": "python",
   "pygments_lexer": "ipython3",
   "version": "3.9.12"
  }
 },
 "nbformat": 4,
 "nbformat_minor": 5
}
