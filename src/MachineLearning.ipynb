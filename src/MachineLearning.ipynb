{
 "cells": [
  {
   "cell_type": "code",
   "execution_count": null,
   "id": "a536dc8e",
   "metadata": {},
   "outputs": [],
   "source": [
    "import pandas as pd\n",
    "import numpy as np\n",
    "from sklearn.preprocessing import LabelEncoder\n",
    "from sklearn.model_selection import train_test_split as tts"
   ]
  },
  {
   "cell_type": "code",
   "execution_count": null,
   "id": "e51ca1fe",
   "metadata": {},
   "outputs": [],
   "source": [
    "from sklearn.linear_model import LinearRegression as LinReg\n",
    "from sklearn.linear_model import Lasso        # regularizacion L1\n",
    "from sklearn.linear_model import Ridge        # regularizacion L2\n",
    "from sklearn.linear_model import ElasticNet\n",
    "from sklearn.svm import SVR\n",
    "from sklearn.ensemble import RandomForestRegressor as RFR  \n",
    "from sklearn.tree import ExtraTreeRegressor as ETR\n",
    "from sklearn.ensemble import GradientBoostingRegressor as GBR\n",
    "from xgboost import XGBRegressor as XGBR\n",
    "from catboost import CatBoostRegressor as CTR\n",
    "from lightgbm import LGBMRegressor as LGBMR"
   ]
  },
  {
   "cell_type": "code",
   "execution_count": null,
   "id": "21bbd962",
   "metadata": {},
   "outputs": [],
   "source": [
    "pd.set_option('display.max_columns', None)"
   ]
  },
  {
   "cell_type": "code",
   "execution_count": null,
   "id": "aae6ed77",
   "metadata": {},
   "outputs": [],
   "source": [
    "pd.set_option('display.max_rows', None)"
   ]
  },
  {
   "cell_type": "code",
   "execution_count": null,
   "id": "67739164",
   "metadata": {},
   "outputs": [],
   "source": [
    "boe=pd.read_csv('../data/BOE_def.csv')"
   ]
  },
  {
   "cell_type": "code",
   "execution_count": null,
   "id": "3ae273af",
   "metadata": {},
   "outputs": [],
   "source": [
    "boe.fecha_de_conclusion.unique()"
   ]
  },
  {
   "cell_type": "code",
   "execution_count": null,
   "id": "f3a81954",
   "metadata": {},
   "outputs": [],
   "source": [
    "import regex as re"
   ]
  },
  {
   "cell_type": "code",
   "execution_count": null,
   "id": "f5199bef",
   "metadata": {},
   "outputs": [],
   "source": [
    "def limpiar_(fecha_de_inicio):\n",
    "    fecha_de_inicio=re.findall('\\d{4}', fecha_de_inicio)\n",
    "    fecha_de_inicio=' '.join(fecha_de_inicio)\n",
    "    return fecha_de_inicio"
   ]
  },
  {
   "cell_type": "code",
   "execution_count": null,
   "id": "7db2eb41",
   "metadata": {},
   "outputs": [],
   "source": [
    "boe.fecha_de_inicio=boe.fecha_de_inicio.apply(limpiar_)"
   ]
  },
  {
   "cell_type": "code",
   "execution_count": null,
   "id": "1adb986e",
   "metadata": {},
   "outputs": [],
   "source": [
    "boe.fecha_de_conclusion=boe.fecha_de_conclusion.apply(limpiar_)"
   ]
  },
  {
   "cell_type": "code",
   "execution_count": null,
   "id": "3ec37f7b",
   "metadata": {},
   "outputs": [],
   "source": [
    "boe.head()"
   ]
  },
  {
   "cell_type": "code",
   "execution_count": null,
   "id": "1c9a6b95",
   "metadata": {},
   "outputs": [],
   "source": [
    "boe.drop(columns=['identificador','tipo_de_subasta','cuenta_expediente',\n",
    "                  'anuncio_BOE','tasacion','puja_minima','tramos_entre_pujas',\n",
    "                 'importe_del_deposito','direccion','localidad'], inplace=True)"
   ]
  },
  {
   "cell_type": "code",
   "execution_count": null,
   "id": "5cf833c8",
   "metadata": {},
   "outputs": [],
   "source": [
    "boe.head()"
   ]
  },
  {
   "cell_type": "code",
   "execution_count": null,
   "id": "9fa49904",
   "metadata": {},
   "outputs": [],
   "source": [
    "boe.info(memory_usage='deep')"
   ]
  },
  {
   "cell_type": "code",
   "execution_count": null,
   "id": "be1f9c3f",
   "metadata": {},
   "outputs": [],
   "source": [
    "boe['fecha_de_inicio'] = boe['fecha_de_inicio'].astype(int)"
   ]
  },
  {
   "cell_type": "code",
   "execution_count": null,
   "id": "ea9ba216",
   "metadata": {},
   "outputs": [],
   "source": [
    "boe['fecha_de_conclusion'] = boe['fecha_de_conclusion'].astype(int)"
   ]
  },
  {
   "cell_type": "code",
   "execution_count": null,
   "id": "0ed96ffe",
   "metadata": {},
   "outputs": [],
   "source": [
    "#eliminamos esta columna porque el precio se cierra en la fecha de conclusion y varia segun el año final.\n",
    "boe.drop(columns=['fecha_de_inicio'], inplace=True)"
   ]
  },
  {
   "cell_type": "code",
   "execution_count": null,
   "id": "4aaa37c0",
   "metadata": {},
   "outputs": [],
   "source": [
    "#eliminamos codigo postal? con eso hemos sacado el pm2, no nos interesa más. Ademas contamos con la provincia.\n",
    "boe.drop(columns=['codigo_postal'], inplace=True)"
   ]
  },
  {
   "cell_type": "code",
   "execution_count": null,
   "id": "0a3a2a82",
   "metadata": {},
   "outputs": [],
   "source": [
    "boe.head()"
   ]
  },
  {
   "cell_type": "code",
   "execution_count": null,
   "id": "18841cea",
   "metadata": {},
   "outputs": [],
   "source": [
    "#creamos new colum con la diferencia entre la deuda(cantidad_reclamada) y el valor que le da el juez(valor_subasta)\n",
    "boe['diff'] = boe['valor_subasta'].sub(boe['cantidad_reclamada'], axis = 0)"
   ]
  },
  {
   "cell_type": "code",
   "execution_count": null,
   "id": "d7210e7f",
   "metadata": {},
   "outputs": [],
   "source": [
    "boe.head()"
   ]
  },
  {
   "cell_type": "code",
   "execution_count": null,
   "id": "bf6ec977",
   "metadata": {},
   "outputs": [],
   "source": [
    "boe.drop(columns=['cantidad_reclamada','valor_subasta'], inplace=True)"
   ]
  },
  {
   "cell_type": "code",
   "execution_count": null,
   "id": "54c92f71",
   "metadata": {},
   "outputs": [],
   "source": [
    "boe.head()"
   ]
  },
  {
   "cell_type": "code",
   "execution_count": null,
   "id": "d296870c",
   "metadata": {},
   "outputs": [],
   "source": [
    "boe=pd.get_dummies(boe, columns=['fecha_de_conclusion','provincia'], drop_first=True)\n",
    "\n",
    "boe.head()"
   ]
  },
  {
   "cell_type": "code",
   "execution_count": null,
   "id": "37719039",
   "metadata": {},
   "outputs": [],
   "source": [
    "boe.head()"
   ]
  },
  {
   "cell_type": "code",
   "execution_count": null,
   "id": "138f56d4",
   "metadata": {},
   "outputs": [],
   "source": [
    "boe.pm2=LabelEncoder().fit_transform(boe.pm2)"
   ]
  },
  {
   "cell_type": "code",
   "execution_count": null,
   "id": "4c6c5fcd",
   "metadata": {},
   "outputs": [],
   "source": [
    "boe.head()"
   ]
  },
  {
   "cell_type": "code",
   "execution_count": null,
   "id": "ef7a937a",
   "metadata": {},
   "outputs": [],
   "source": [
    "boe.diference.unique()"
   ]
  },
  {
   "cell_type": "code",
   "execution_count": null,
   "id": "30b58112",
   "metadata": {},
   "outputs": [],
   "source": [
    "boe=boe.rename(columns = {'diff':'diference'})"
   ]
  },
  {
   "cell_type": "code",
   "execution_count": null,
   "id": "47a16dcf",
   "metadata": {},
   "outputs": [],
   "source": [
    "boe.diference=LabelEncoder().fit_transform(boe.diference)"
   ]
  },
  {
   "cell_type": "code",
   "execution_count": null,
   "id": "66cac5cf",
   "metadata": {},
   "outputs": [],
   "source": [
    "boe.head()"
   ]
  },
  {
   "cell_type": "code",
   "execution_count": null,
   "id": "aa9e035c",
   "metadata": {},
   "outputs": [],
   "source": [
    "boe_x=boe.drop('puja', axis=1)\n",
    "boe_y=boe.puja"
   ]
  },
  {
   "cell_type": "code",
   "execution_count": null,
   "id": "f8a67ed6",
   "metadata": {},
   "outputs": [],
   "source": [
    "X_train, X_test, y_train, y_test = tts(boe_x, boe_y,train_size=0.9, test_size=0.1,random_state =71)"
   ]
  },
  {
   "cell_type": "markdown",
   "id": "e8000b3f",
   "metadata": {},
   "source": [
    "**Iniciamos los modelos**"
   ]
  },
  {
   "cell_type": "code",
   "execution_count": null,
   "id": "9accaac8",
   "metadata": {},
   "outputs": [],
   "source": [
    "linreg=LinReg()\n",
    "lasso=Lasso()\n",
    "ridge=Ridge()\n",
    "elastic=ElasticNet()\n",
    "svr=SVR()\n",
    "rfr=RFR()\n",
    "etr=ETR()\n",
    "gbr=GBR()\n",
    "xgbr=XGBR()\n",
    "ctr=CTR()\n",
    "lgbmr=LGBMR()"
   ]
  },
  {
   "cell_type": "markdown",
   "id": "ce6afdef",
   "metadata": {},
   "source": [
    "**Entrenamos modelos**"
   ]
  },
  {
   "cell_type": "code",
   "execution_count": null,
   "id": "54b9c872",
   "metadata": {},
   "outputs": [],
   "source": [
    "linreg.fit(X_train, y_train)\n",
    "lasso.fit(X_train, y_train)\n",
    "ridge.fit(X_train, y_train)\n",
    "elastic.fit(X_train, y_train)\n",
    "svr.fit(X_train, y_train)\n",
    "rfr.fit(X_train, y_train)\n",
    "etr.fit(X_train, y_train)\n",
    "gbr.fit(X_train, y_train)\n",
    "xgbr.fit(X_train, y_train)\n",
    "ctr.fit(X_train, y_train)\n",
    "lgbmr.fit(X_train, y_train)"
   ]
  },
  {
   "cell_type": "code",
   "execution_count": null,
   "id": "ab0c0935",
   "metadata": {},
   "outputs": [],
   "source": [
    "from sklearn.metrics import mean_squared_error as mse"
   ]
  },
  {
   "cell_type": "code",
   "execution_count": null,
   "id": "d1032d9a",
   "metadata": {},
   "outputs": [],
   "source": [
    "from sklearn.metrics import r2_score as r2"
   ]
  },
  {
   "cell_type": "code",
   "execution_count": null,
   "id": "d480b176",
   "metadata": {},
   "outputs": [],
   "source": [
    "#Import Lazypredict and all libraries\n",
    "import lazypredict\n",
    "from lazypredict.Supervised import LazyRegressor\n",
    "from sklearn.model_selection import train_test_split\n",
    "import os\n",
    "import pandas as pd\n",
    "import numpy as np"
   ]
  },
  {
   "cell_type": "code",
   "execution_count": null,
   "id": "26a1731c",
   "metadata": {},
   "outputs": [],
   "source": [
    "lazy = LazyRegressor(verbose=0,ignore_warnings=True, custom_metric=None)\n",
    "models, predictions = lazy.fit(X_train, X_test, y_train, y_test)"
   ]
  },
  {
   "cell_type": "code",
   "execution_count": null,
   "id": "52d7cdfb",
   "metadata": {},
   "outputs": [],
   "source": [
    "print(models)"
   ]
  }
 ],
 "metadata": {
  "kernelspec": {
   "display_name": "Python 3 (ipykernel)",
   "language": "python",
   "name": "python3"
  },
  "language_info": {
   "codemirror_mode": {
    "name": "ipython",
    "version": 3
   },
   "file_extension": ".py",
   "mimetype": "text/x-python",
   "name": "python",
   "nbconvert_exporter": "python",
   "pygments_lexer": "ipython3",
   "version": "3.9.12"
  }
 },
 "nbformat": 4,
 "nbformat_minor": 5
}
